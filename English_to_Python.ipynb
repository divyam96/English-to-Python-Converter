{
  "nbformat": 4,
  "nbformat_minor": 0,
  "metadata": {
    "accelerator": "GPU",
    "colab": {
      "name": "English to Python.ipynb",
      "provenance": [],
      "collapsed_sections": [],
      "toc_visible": true
    },
    "kernelspec": {
      "display_name": "Python 3",
      "name": "python3"
    }
  },
  "cells": [
    {
      "cell_type": "markdown",
      "metadata": {
        "id": "mlv7IfhFQhsv"
      },
      "source": [
        "# Data Perparation"
      ]
    },
    {
      "cell_type": "code",
      "metadata": {
        "colab": {
          "base_uri": "https://localhost:8080/"
        },
        "id": "5He42w-lJcMZ",
        "outputId": "f872e6d5-c7f6-48fb-c755-eae94f41f960"
      },
      "source": [
        "!wget \"https://drive.google.com/u/0/uc?id=1rHb0FQ5z5ZpaY2HpyFGY6CeyDG0kTLoO&export=download\" -O english_python_data.txt "
      ],
      "execution_count": 1,
      "outputs": [
        {
          "output_type": "stream",
          "text": [
            "--2021-03-17 12:35:16--  https://drive.google.com/u/0/uc?id=1rHb0FQ5z5ZpaY2HpyFGY6CeyDG0kTLoO&export=download\n",
            "Resolving drive.google.com (drive.google.com)... 108.177.126.102, 108.177.126.138, 108.177.126.101, ...\n",
            "Connecting to drive.google.com (drive.google.com)|108.177.126.102|:443... connected.\n",
            "HTTP request sent, awaiting response... 302 Moved Temporarily\n",
            "Location: https://doc-14-3o-docs.googleusercontent.com/docs/securesc/ha0ro937gcuc7l7deffksulhg5h7mbp1/tjq9p1vbsi8limk4rpk0je1pudjnl4kh/1615984500000/02008525212197398114/*/1rHb0FQ5z5ZpaY2HpyFGY6CeyDG0kTLoO?e=download [following]\n",
            "Warning: wildcards not supported in HTTP.\n",
            "--2021-03-17 12:35:17--  https://doc-14-3o-docs.googleusercontent.com/docs/securesc/ha0ro937gcuc7l7deffksulhg5h7mbp1/tjq9p1vbsi8limk4rpk0je1pudjnl4kh/1615984500000/02008525212197398114/*/1rHb0FQ5z5ZpaY2HpyFGY6CeyDG0kTLoO?e=download\n",
            "Resolving doc-14-3o-docs.googleusercontent.com (doc-14-3o-docs.googleusercontent.com)... 74.125.143.132, 2a00:1450:4013:c03::84\n",
            "Connecting to doc-14-3o-docs.googleusercontent.com (doc-14-3o-docs.googleusercontent.com)|74.125.143.132|:443... connected.\n",
            "HTTP request sent, awaiting response... 200 OK\n",
            "Length: 1122316 (1.1M) [text/plain]\n",
            "Saving to: ‘english_python_data.txt’\n",
            "\n",
            "english_python_data 100%[===================>]   1.07M  --.-KB/s    in 0.007s  \n",
            "\n",
            "2021-03-17 12:35:18 (151 MB/s) - ‘english_python_data.txt’ saved [1122316/1122316]\n",
            "\n"
          ],
          "name": "stdout"
        }
      ]
    },
    {
      "cell_type": "code",
      "metadata": {
        "id": "T-mOljzdcIZL"
      },
      "source": [
        "import torch\r\n",
        "import torch.nn as nn\r\n",
        "import torch.optim as optim\r\n",
        "\r\n",
        "import torchtext\r\n",
        "from torchtext.legacy.data import Field, BucketIterator, Iterator\r\n",
        "from torchtext.legacy import data\r\n",
        "\r\n",
        "import matplotlib.pyplot as plt\r\n",
        "import matplotlib.ticker as ticker\r\n",
        "\r\n",
        "import spacy\r\n",
        "import numpy as np\r\n",
        "import pandas as pd\r\n",
        "\r\n",
        "import random\r\n",
        "import math\r\n",
        "import time"
      ],
      "execution_count": 2,
      "outputs": []
    },
    {
      "cell_type": "code",
      "metadata": {
        "colab": {
          "base_uri": "https://localhost:8080/",
          "height": 35
        },
        "id": "5WZWgUq7N0Qn",
        "outputId": "2c8d7c01-5bad-4be0-bd86-213ea1114bc8"
      },
      "source": [
        "torchtext.__version__"
      ],
      "execution_count": 3,
      "outputs": [
        {
          "output_type": "execute_result",
          "data": {
            "application/vnd.google.colaboratory.intrinsic+json": {
              "type": "string"
            },
            "text/plain": [
              "'0.9.0'"
            ]
          },
          "metadata": {
            "tags": []
          },
          "execution_count": 3
        }
      ]
    },
    {
      "cell_type": "code",
      "metadata": {
        "colab": {
          "base_uri": "https://localhost:8080/"
        },
        "id": "GIwv64O6zIeU",
        "outputId": "bce39c38-230b-4780-87fa-cb872ea0288f"
      },
      "source": [
        "%set_env CUDA_LAUNCH_BLOCKING = 1"
      ],
      "execution_count": 4,
      "outputs": [
        {
          "output_type": "stream",
          "text": [
            "env: CUDA_LAUNCH_BLOCKING=1\n"
          ],
          "name": "stdout"
        }
      ]
    },
    {
      "cell_type": "markdown",
      "metadata": {
        "id": "c1UTpnAaSUlp"
      },
      "source": [
        "## Reading the text file"
      ]
    },
    {
      "cell_type": "code",
      "metadata": {
        "id": "wYRncG2sPvbS"
      },
      "source": [
        "f = open(\"english_python_data.txt\", \"r\")\r\n",
        "file_lines = f.readlines()"
      ],
      "execution_count": 5,
      "outputs": []
    },
    {
      "cell_type": "code",
      "metadata": {
        "colab": {
          "base_uri": "https://localhost:8080/"
        },
        "id": "wcPoWVXRYqbT",
        "outputId": "eb263ab3-0cce-44f2-a2f2-7e9644e69d59"
      },
      "source": [
        "file_lines[:20]"
      ],
      "execution_count": 6,
      "outputs": [
        {
          "output_type": "execute_result",
          "data": {
            "text/plain": [
              "['# write a python program to add two numbers \\n',\n",
              " 'num1 = 1.5\\n',\n",
              " 'num2 = 6.3\\n',\n",
              " 'sum = num1 + num2\\n',\n",
              " \"print(f'Sum: {sum}')\\n\",\n",
              " '\\n',\n",
              " '\\n',\n",
              " '# write a python function to add two user provided numbers and return the sum\\n',\n",
              " 'def add_two_numbers(num1, num2):\\n',\n",
              " '    sum = num1 + num2\\n',\n",
              " '    return sum\\n',\n",
              " '\\n',\n",
              " '\\n',\n",
              " '# write a program to find and print the largest among three numbers\\n',\n",
              " '\\n',\n",
              " 'num1 = 10\\n',\n",
              " 'num2 = 12\\n',\n",
              " 'num3 = 14\\n',\n",
              " 'if (num1 >= num2) and (num1 >= num3):\\n',\n",
              " '   largest = num1\\n']"
            ]
          },
          "metadata": {
            "tags": []
          },
          "execution_count": 6
        }
      ]
    },
    {
      "cell_type": "markdown",
      "metadata": {
        "id": "wbhPC2wnSbOA"
      },
      "source": [
        "Our dataset is formulated in a manner where every question starts with '#'. Lines between two consecutive '#' forms the solution to the question."
      ]
    },
    {
      "cell_type": "code",
      "metadata": {
        "id": "B1HR4YOwXXln"
      },
      "source": [
        "dps = []\r\n",
        "dp = None\r\n",
        "for line in file_lines:\r\n",
        "  if line[0] == \"#\":\r\n",
        "    if dp:\r\n",
        "      dp['solution'] = ''.join(dp['solution'])\r\n",
        "      dps.append(dp)\r\n",
        "    dp = {\"question\": None, \"solution\": []}\r\n",
        "    dp['question'] = line[1:]\r\n",
        "  else:\r\n",
        "    dp[\"solution\"].append(line)"
      ],
      "execution_count": 7,
      "outputs": []
    },
    {
      "cell_type": "markdown",
      "metadata": {
        "id": "0VNitByXS7PF"
      },
      "source": [
        "Lets take a look at the first 50 entries of the data we have parsed."
      ]
    },
    {
      "cell_type": "code",
      "metadata": {
        "colab": {
          "base_uri": "https://localhost:8080/"
        },
        "id": "JOvv0T1FaH-V",
        "outputId": "014fb959-f8d7-4609-c894-6eeabe6dde02"
      },
      "source": [
        "i=0\r\n",
        "for dp in dps:\r\n",
        "  print(\"\\n Question no: \", i+1)\r\n",
        "  i+=1\r\n",
        "  print(dp['question'][1:])\r\n",
        "  print(dp['solution'])\r\n",
        "  if i>49:\r\n",
        "    break"
      ],
      "execution_count": 8,
      "outputs": [
        {
          "output_type": "stream",
          "text": [
            "\n",
            " Question no:  1\n",
            "write a python program to add two numbers \n",
            "\n",
            "num1 = 1.5\n",
            "num2 = 6.3\n",
            "sum = num1 + num2\n",
            "print(f'Sum: {sum}')\n",
            "\n",
            "\n",
            "\n",
            "\n",
            " Question no:  2\n",
            "write a python function to add two user provided numbers and return the sum\n",
            "\n",
            "def add_two_numbers(num1, num2):\n",
            "    sum = num1 + num2\n",
            "    return sum\n",
            "\n",
            "\n",
            "\n",
            "\n",
            " Question no:  3\n",
            "write a program to find and print the largest among three numbers\n",
            "\n",
            "\n",
            "num1 = 10\n",
            "num2 = 12\n",
            "num3 = 14\n",
            "if (num1 >= num2) and (num1 >= num3):\n",
            "   largest = num1\n",
            "elif (num2 >= num1) and (num2 >= num3):\n",
            "   largest = num2\n",
            "else:\n",
            "   largest = num3\n",
            "print(f'largest:{largest}')\n",
            "\n",
            "\n",
            "\n",
            "\n",
            " Question no:  4\n",
            "write a program to find and print the smallest among three numbers\n",
            "\n",
            "num1 = 10\n",
            "num2 = 12\n",
            "num3 = 14\n",
            "if (num1 <= num2) and (num1 <= num3):\n",
            "   smallest = num1\n",
            "elif (num2 <= num1) and (num2 <= num3):\n",
            "   smallest = num2\n",
            "else:\n",
            "   smallest = num3\n",
            "print(f'smallest:{smallest}')\n",
            "\n",
            "\n",
            "\n",
            "\n",
            " Question no:  5\n",
            "Write a python function to merge two given lists into one\n",
            "\n",
            "def merge_lists(l1, l2):\n",
            "    return l1 + l2\n",
            "\n",
            "\n",
            "\n",
            "\n",
            " Question no:  6\n",
            "Write a program to check whether a number is prime or not\n",
            "\n",
            "num = 337\n",
            "\n",
            "if num > 1:\n",
            "   for i in range(2, num//2 + 1):\n",
            "       if (num % i) == 0:\n",
            "           print(num,\"is not a prime number\")\n",
            "           print(f\"{i} times {num//i} is {num}\")\n",
            "           break\n",
            "   else:\n",
            "       print(f\"{num} is a prime number\")\n",
            "\n",
            "else:\n",
            "   print(f\"{num} is not a prime number\")\n",
            "\n",
            "\n",
            "\n",
            "\n",
            " Question no:  7\n",
            "Write a python function that prints the factors of a given number\n",
            "\n",
            "def print_factors(x):\n",
            "   print(f\"The factors of {x} are:\")\n",
            "   for i in range(1, x + 1):\n",
            "       if x % i == 0:\n",
            "           print(i)\n",
            "\n",
            "\n",
            "\n",
            " Question no:  8\n",
            "Write a program to find the factorial of a number\n",
            "\n",
            "num = 13\n",
            "factorial = 1\n",
            "\n",
            "if num < 0:\n",
            "   print(\"No factorials for negative numbers!\")\n",
            "\n",
            "elif num == 0:\n",
            "   print(\"The factorial of 0 is 1\")\n",
            "\n",
            "else:\n",
            "   for i in range(1,num + 1):\n",
            "       factorial = factorial*i\n",
            "   print(f\"The factorial of {num} is {factorial}\")\n",
            "\n",
            "\n",
            "\n",
            "\n",
            " Question no:  9\n",
            "Write a python function to print whether a number is negative, positive or zero\n",
            "\n",
            "def check_pnz(num):\n",
            "    if num > 0:\n",
            "       print(\"Positive number\")\n",
            "\n",
            "    elif num == 0:\n",
            "       print(\"Zero\")\n",
            "\n",
            "    else:\n",
            "       print(\"Negative number\")\n",
            "\n",
            "\n",
            "\n",
            "\n",
            " Question no:  10\n",
            "Write a program to print the multiplication table of a given number\n",
            "\n",
            "\n",
            "num = 9\n",
            "for i in range(1, 11):\n",
            "   print(f\"{num} x {i} = {num*i}\")\n",
            "\n",
            "\n",
            "\n",
            "\n",
            " Question no:  11\n",
            "Write a python function to print powers of 2, for given number of terms\n",
            "\n",
            "def two_power(terms):\n",
            "    result = list(map(lambda x: 2 ** x, range(terms)))\n",
            "\n",
            "    print(f\"The total terms are: {terms}\")\n",
            "    for i in range(terms):\n",
            "       print(f\"2^{i} = {result[i]}\")\n",
            "\n",
            "\n",
            "\n",
            "\n",
            " Question no:  12\n",
            "Write a program to filter the numbers in a list which are divisible by a given number\n",
            "\n",
            "my_list = [11, 45, 74, 89, 132, 239, 721, 21]\n",
            "\n",
            "num = 3\n",
            "result = list(filter(lambda x: (x % num == 0), my_list))\n",
            "\n",
            "print(f\"Numbers divisible by {num} are {result}\")\n",
            "\n",
            "\n",
            "\n",
            "\n",
            " Question no:  13\n",
            "Write a python function that returns the sum of n natural numbers\n",
            "\n",
            "def sum_natural(num):\n",
            "    if num < 0:\n",
            "       print(\"Please enter a positive number!\")\n",
            "    else:\n",
            "       sum = 0\n",
            "       while(num > 0):\n",
            "           sum += num\n",
            "           num -= 1\n",
            "       return num\n",
            "\n",
            "\n",
            "\n",
            " Question no:  14\n",
            "Write a program to swap first and last elements in a list\n",
            "\n",
            "my_list = [1, 2, 3, 4, 5, 6]\n",
            "my_list[0], my_list[-1] = my_list[-1], my_list[0]\n",
            "\n",
            "\n",
            "\n",
            "\n",
            " Question no:  15\n",
            "Write a python function to find the area of a circle, whose radius is given\n",
            "\n",
            "def findArea(r): \n",
            "    PI = 3.142\n",
            "    return PI * (r*r)\n",
            "\n",
            "\n",
            "\n",
            "\n",
            " Question no:  16\n",
            "Write a program to print the sum of squares of first n natural numbers\n",
            "\n",
            "n = 21\n",
            "sum_n = 0\n",
            "for i in range(1, n+1):\n",
            "    sum_n += i**2\n",
            "print(sum_n)\n",
            "\n",
            "\n",
            "\n",
            "\n",
            " Question no:  17\n",
            "Write a program to print the length of a list\n",
            "\n",
            "my_list = [1, 2, 3, 4, 5, 6, 7, 8, 9]\n",
            "\n",
            "print(len(my_list))\n",
            "\n",
            "\n",
            "\n",
            "\n",
            " Question no:  18\n",
            "Write a pythno function to print the length of a given tuple\n",
            "\n",
            "my_tuple = (1, 2, 3, 4, 5, 6, 7, 8)\n",
            "\n",
            "print(len(my_tuple))\n",
            "\n",
            "\n",
            "\n",
            "\n",
            " Question no:  19\n",
            "Write a python function to print the elements of a given list, one element in a line\n",
            "\n",
            "def custom_print(l):\n",
            "    for _ in l:\n",
            "        print(_)\n",
            "\n",
            "\n",
            "\n",
            "\n",
            " Question no:  20\n",
            "Write a python function to remove all the odd numbers from a list and return the remaining list\n",
            "\n",
            "\n",
            "def remove_odd(my_list):\n",
            "    result = list(filter(lambda x: (x % 2 == 0), my_list))\n",
            "    return result\n",
            "\n",
            "\n",
            "\n",
            "\n",
            " Question no:  21\n",
            "Write a python function to remove all the even numbers from a list and return the remaining list\n",
            "\n",
            "\n",
            "def remove_even(my_list):\n",
            "    result = list(filter(lambda x: (x % 2 != 0), my_list))\n",
            "    return result\n",
            "\n",
            "\n",
            "\n",
            "\n",
            " Question no:  22\n",
            "Write a function that takes two lists as input and returns a zipped list of corresponding elements\n",
            "\n",
            "\n",
            "def zip_list(list1, list2):\n",
            "    return list(zip(list1, list2))\n",
            "\n",
            "\n",
            "\n",
            "\n",
            " Question no:  23\n",
            "Write a program to to print the contents of a given file\n",
            "\n",
            "file_name = 'temp.txt'\n",
            "with open(file_name, 'r') as f:\n",
            "    print(f.read())\n",
            "\n",
            "\n",
            "\n",
            "\n",
            " Question no:  24\n",
            "Write a functin that returns the LCM of two input numbers\n",
            "\n",
            "\n",
            "def lcm(a, b):\n",
            "    if a>b:\n",
            "        min_ = a\n",
            "    else:\n",
            "        min_ = b\n",
            "    while True:\n",
            "        if min_%a==0 and min_%b==0:\n",
            "            break\n",
            "        min_+=1\n",
            "    return min_\n",
            "\n",
            "\n",
            "\n",
            "\n",
            " Question no:  25\n",
            "Write a program to print the unique elements in a list\n",
            "\n",
            "my_list = [1, 2, 4, 5, 2, 3, 1, 5, 4, 7, 8, 2, 4, 5, 2, 7, 3]\n",
            "\n",
            "print(set(my_list))\n",
            "\n",
            "\n",
            "\n",
            "\n",
            " Question no:  26\n",
            "Write a function that returns the sum of digits of a given number\n",
            "\n",
            "def digisum(num):\n",
            "    sum_=0\n",
            "    while num > 0:\n",
            "        dig = num % 10\n",
            "        sum_+=dig\n",
            "        num//=10\n",
            "    return sum_\n",
            "\n",
            "\n",
            "\n",
            "\n",
            " Question no:  27\n",
            "Write a program to check and print whether a number is palindrome or not\n",
            "\n",
            "\n",
            "num = 12321\n",
            "temp = num\n",
            "rev = 0\n",
            "while num > 0:\n",
            "    dig = num % 10\n",
            "    rev = rev*10 + dig\n",
            "    num//=10\n",
            "if temp==rev :\n",
            "    print(\"The number is a palindrome!\")\n",
            "else:\n",
            "    print(\"The number isn't a palindrome!\")\n",
            "\n",
            "\n",
            "\n",
            "\n",
            " Question no:  28\n",
            "Write a function that prints a given value, n number of times\n",
            "\n",
            "def print_n(val, n):\n",
            "    for _ in range(n):\n",
            "        print(val)\n",
            "\n",
            "\n",
            "\n",
            "\n",
            " Question no:  29\n",
            "Write a function to find the area of sqaure\n",
            "\n",
            "def square_area(a):\n",
            "    return a*a\n",
            "\n",
            "\n",
            "\n",
            "\n",
            " Question no:  30\n",
            "Write a function to find the perimeter of a square\n",
            "\n",
            "def square_perimeter(a):\n",
            "    return 4*a\n",
            "\n",
            "\n",
            "\n",
            " Question no:  31\n",
            "Write a function to find the area of rectangle\n",
            "\n",
            "def rectangle_area(l, b):\n",
            "    return l*b\n",
            "\n",
            "\n",
            "\n",
            " Question no:  32\n",
            "Write a function to find the permieter of a rectangle\n",
            "\n",
            "def rectangle_perimeter(l, b):\n",
            "    return 2*(l+b)\n",
            "\n",
            "\n",
            "\n",
            " Question no:  33\n",
            "Write a python function to find the area of a circle, whose radius is given\n",
            "\n",
            "def findArea(r): \n",
            "    PI = 3.142\n",
            "    return PI * (r*r)\n",
            "\n",
            "\n",
            "\n",
            " Question no:  34\n",
            "Write a function to calculate and return electricity bill. Units used are given. Price per unit is fixed and is increased after 750 units.\n",
            "\n",
            "\n",
            "def calc_elect_bill(units):\n",
            "    if units > 0:\n",
            "        if units <= 750:\n",
            "            return 5*units\n",
            "        else:\n",
            "            return 5*(750) + 7*(units-750)\n",
            "\n",
            "    else:\n",
            "        return -1\n",
            "\n",
            "\n",
            "\n",
            "\n",
            " Question no:  35\n",
            "Write a function to return day of a week, given the number\n",
            "\n",
            "def give_day(n):\n",
            "    day_dict = {1: 'Sunday', 2: 'Monday', 3: 'Tuesday', 4: 'Wednesday', 5: 'Thursday', 6: 'Friday', 7: 'Saturday'}\n",
            "    return day_dict[n]\n",
            "\n",
            "\n",
            "\n",
            "\n",
            " Question no:  36\n",
            "Write a program to calculate and print the volume of a cylender\n",
            "\n",
            "r = 3\n",
            "h = 5\n",
            "pi = 3.14\n",
            "volume = pi*(r**2)*h\n",
            "print(volume)\n",
            "\n",
            "\n",
            "\n",
            "\n",
            " Question no:  37\n",
            "Write a function to calculate and return the average of input numbers\n",
            "\n",
            "\n",
            "def calc_avg(*args):\n",
            "    if len(args) > 0:\n",
            "        return sum(args)/len(args)\n",
            "    return None\n",
            "\n",
            "\n",
            "\n",
            "\n",
            " Question no:  38\n",
            "Write a function to calculate compound interest, given p, r, t\n",
            "\n",
            "def comp_int(p, r, t):\n",
            "    amount = p * (1 + (r/100))**t\n",
            "    interest = amount - p\n",
            "    return interest\n",
            "\n",
            "\n",
            "\n",
            "\n",
            " Question no:  39\n",
            "Write a function to calculate simple interest, given p, r, t\n",
            "\n",
            "def simp_int(p, r, t):\n",
            "    interest = (p*r*t)/100\n",
            "    return interest\n",
            "\n",
            "\n",
            "\n",
            "\n",
            " Question no:  40\n",
            "Write a program to print a given string, replacing all the vowels with '_'\n",
            "\n",
            "\n",
            "st = \"Where is this going? Could you please help me understand!\"\n",
            "vowels = \"AEIOUaeiou\"\n",
            "\n",
            "for v in vowels:\n",
            "    st = st.replace(v, '_')\n",
            "\n",
            "print(st)\n",
            "\n",
            "\n",
            "\n",
            "\n",
            " Question no:  41\n",
            "Write a functio to check whether a number if perfect or not\n",
            "\n",
            "def is_perfect(n):\n",
            "    sum_ = 0\n",
            "    for i in range(1, n//2 + 1):\n",
            "        if n%i == 0:\n",
            "            sum_+=i\n",
            "    if sum_ == n:\n",
            "        return True\n",
            "    return False\n",
            "\n",
            "\n",
            "\n",
            " Question no:  42\n",
            "Write a function that returns seperate lists of positive and negative numbers from an input list\n",
            "\n",
            "def seperate_pn(l):\n",
            "    pos_list = []\n",
            "    neg_list = []\n",
            "    for _ in l:\n",
            "        if _<0:\n",
            "            neg_list.append(_)\n",
            "        else:\n",
            "            pos_list.append(_)\n",
            "    return pos_list, neg_list\n",
            "\n",
            "\n",
            "\n",
            "\n",
            " Question no:  43\n",
            "Write a program to find and print the area of a triangle, whose hight and width are given.\n",
            "\n",
            "\n",
            "h = 12\n",
            "w = 11\n",
            "area = 0.5*h*w\n",
            "print(area)\n",
            "\n",
            "\n",
            "\n",
            "\n",
            " Question no:  44\n",
            "Write a function to find acceleration, given u, v and t\n",
            "\n",
            "\n",
            "def acc(u, v, t):\n",
            "    return (v-u)/t\n",
            "\n",
            "\n",
            "\n",
            " Question no:  45\n",
            "Write a lambda function to multiply two numbers\n",
            "\n",
            "\n",
            "multiply = lambda a, b: a*b\n",
            "\n",
            "\n",
            "\n",
            " Question no:  46\n",
            "Write a lambda function to add two numbers\n",
            "\n",
            "\n",
            "add = lambda a, b: a+b\n",
            "\n",
            "\n",
            "\n",
            " Question no:  47\n",
            "Write a lambda function that gives True if the input number is even otherwise False\n",
            "\n",
            "\n",
            "even = lambda a: True if a%2 == 0 else False\n",
            "\n",
            "\n",
            "\n",
            " Question no:  48\n",
            "Write a lambda function to to give character grom it's ascii value\n",
            "\n",
            "\n",
            "ascii = lambda a: chr(a)\n",
            "\n",
            "\n",
            "\n",
            " Question no:  49\n",
            "Write a lambda function to that gives the number of digits in a number\n",
            "\n",
            "\n",
            "dig_cnt = lambda a: len(str(a))\n",
            "\n",
            "\n",
            "\n",
            " Question no:  50\n",
            "Write a program to to check if a triangle is valid or not, given it's all three angles\n",
            "\n",
            "\n",
            "def is_valid_triangle_angle(a, b c):\n",
            "    if a+b+c == 180:\n",
            "        return True\n",
            "    return False\n",
            "\n",
            "\n"
          ],
          "name": "stdout"
        }
      ]
    },
    {
      "cell_type": "code",
      "metadata": {
        "colab": {
          "base_uri": "https://localhost:8080/"
        },
        "id": "qA-1MuOecZRt",
        "outputId": "d5a1d66e-bf43-4913-c1af-463832b802d6"
      },
      "source": [
        "print(\"Dataset size:\", len(dps))"
      ],
      "execution_count": 9,
      "outputs": [
        {
          "output_type": "stream",
          "text": [
            "Dataset size: 4957\n"
          ],
          "name": "stdout"
        }
      ]
    },
    {
      "cell_type": "markdown",
      "metadata": {
        "id": "swBfwcDaXEh5"
      },
      "source": [
        "## Using a custom tokenizer to tokenize python code\r\n",
        "\r\n",
        "Python is a programming language with its own unique syntax. Regular tokenizers like spacy are meant to tokenize english scentences and are not optimized towards Python's syntax. Here, we write our own custom tokenizer that makes use of Python's default [tokenize](https://docs.python.org/3/library/tokenize.html) library. When we make use of this library we only extract the token type and the token string.  \r\n"
      ]
    },
    {
      "cell_type": "code",
      "metadata": {
        "id": "_UsevXhPgh1R"
      },
      "source": [
        "from tokenize import tokenize, untokenize\r\n",
        "import io\r\n",
        "\r\n",
        "\r\n",
        "def tokenize_python_code(python_code_str):\r\n",
        "    python_tokens = list(tokenize(io.BytesIO(python_code_str.encode('utf-8')).readline))\r\n",
        "    tokenized_output = []\r\n",
        "    for i in range(0, len(python_tokens)):\r\n",
        "        tokenized_output.append((python_tokens[i].type, python_tokens[i].string))\r\n",
        "    return tokenized_output\r\n"
      ],
      "execution_count": 10,
      "outputs": []
    },
    {
      "cell_type": "code",
      "metadata": {
        "colab": {
          "base_uri": "https://localhost:8080/"
        },
        "id": "2V-sePckv1-K",
        "outputId": "ee4c09ef-49d5-45dd-8540-dc091eec6cc6"
      },
      "source": [
        "tokenized_sample = tokenize_python_code(dps[1]['solution'])\r\n",
        "print(tokenized_sample)"
      ],
      "execution_count": 11,
      "outputs": [
        {
          "output_type": "stream",
          "text": [
            "[(57, 'utf-8'), (1, 'def'), (1, 'add_two_numbers'), (53, '('), (1, 'num1'), (53, ','), (1, 'num2'), (53, ')'), (53, ':'), (4, '\\n'), (5, '    '), (1, 'sum'), (53, '='), (1, 'num1'), (53, '+'), (1, 'num2'), (4, '\\n'), (1, 'return'), (1, 'sum'), (4, '\\n'), (56, '\\n'), (56, '\\n'), (6, ''), (0, '')]\n"
          ],
          "name": "stdout"
        }
      ]
    },
    {
      "cell_type": "code",
      "metadata": {
        "colab": {
          "base_uri": "https://localhost:8080/"
        },
        "id": "dQ00a5cwwHtL",
        "outputId": "c77c3dfe-1c8f-4fd2-d5e8-209bee6245bc"
      },
      "source": [
        "print(untokenize(tokenized_sample).decode('utf-8'))"
      ],
      "execution_count": 12,
      "outputs": [
        {
          "output_type": "stream",
          "text": [
            "def add_two_numbers (num1 ,num2 ):\n",
            "    sum =num1 +num2 \n",
            "    return sum \n",
            "\n",
            "\n",
            "\n"
          ],
          "name": "stdout"
        }
      ]
    },
    {
      "cell_type": "markdown",
      "metadata": {
        "id": "4nsoc0eCpb8e"
      },
      "source": [
        "Since we have mere 5000 data points, we make use of data augmentations to increase the size of our dataset. While tokenizing the python code, we mask the names of certain variables randomly(with 'var_1, 'var_2' etc) to ensure that the model that we train does not merly fixate on the way the variables are named and actually tries to understand the inhrent logic and syntax of the python code.\r\n",
        "\r\n",
        "But, while randomly picking varibles to mask we avoid keyword literals(*keyword.kwlist*), control structures(as can be seen in below *skip_list*) and object properties. We add all such literals that need to be skipped into the *skip_list*\r\n",
        "\r\n",
        "```skip_list = ['range', 'enumerate', 'print', 'ord', 'int', 'float', 'char', 'list', 'dict', 'tuple', 'set', 'len', 'sum', 'min', 'max']```\r\n"
      ]
    },
    {
      "cell_type": "code",
      "metadata": {
        "colab": {
          "base_uri": "https://localhost:8080/"
        },
        "id": "lM-tqDwhYoVJ",
        "outputId": "bc775f98-1c95-4ae7-fbe6-685d1320a8fe"
      },
      "source": [
        "import keyword\r\n",
        "\r\n",
        "print(keyword.kwlist)"
      ],
      "execution_count": 13,
      "outputs": [
        {
          "output_type": "stream",
          "text": [
            "['False', 'None', 'True', 'and', 'as', 'assert', 'async', 'await', 'break', 'class', 'continue', 'def', 'del', 'elif', 'else', 'except', 'finally', 'for', 'from', 'global', 'if', 'import', 'in', 'is', 'lambda', 'nonlocal', 'not', 'or', 'pass', 'raise', 'return', 'try', 'while', 'with', 'yield']\n"
          ],
          "name": "stdout"
        }
      ]
    },
    {
      "cell_type": "code",
      "metadata": {
        "id": "rbIMyrYapfwS"
      },
      "source": [
        "def augment_tokenize_python_code(python_code_str, mask_factor=0.3):\r\n",
        "\r\n",
        "\r\n",
        "    var_dict = {} # Dictionary that stores masked variables\r\n",
        "\r\n",
        "    # certain reserved words that should not be treated as normal variables and\r\n",
        "    # hence need to be skipped from our variable mask augmentations\r\n",
        "    skip_list = ['range', 'enumerate', 'print', 'ord', 'int', 'float', 'zip'\r\n",
        "                 'char', 'list', 'dict', 'tuple', 'set', 'len', 'sum', 'min', 'max']\r\n",
        "    skip_list.extend(keyword.kwlist)\r\n",
        "\r\n",
        "    var_counter = 1\r\n",
        "    python_tokens = list(tokenize(io.BytesIO(python_code_str.encode('utf-8')).readline))\r\n",
        "    tokenized_output = []\r\n",
        "\r\n",
        "    for i in range(0, len(python_tokens)):\r\n",
        "      if python_tokens[i].type == 1 and python_tokens[i].string not in skip_list:\r\n",
        "        \r\n",
        "        if i>0 and python_tokens[i-1].string in ['def', '.', 'import', 'raise', 'except', 'class']: # avoid masking modules, functions and error literals\r\n",
        "          skip_list.append(python_tokens[i].string)\r\n",
        "          tokenized_output.append((python_tokens[i].type, python_tokens[i].string))\r\n",
        "        elif python_tokens[i].string in var_dict:  # if variable is already masked\r\n",
        "          tokenized_output.append((python_tokens[i].type, var_dict[python_tokens[i].string]))\r\n",
        "        elif random.uniform(0, 1) > 1-mask_factor: # randomly mask variables\r\n",
        "          var_dict[python_tokens[i].string] = 'var_' + str(var_counter)\r\n",
        "          var_counter+=1\r\n",
        "          tokenized_output.append((python_tokens[i].type, var_dict[python_tokens[i].string]))\r\n",
        "        else:\r\n",
        "          skip_list.append(python_tokens[i].string)\r\n",
        "          tokenized_output.append((python_tokens[i].type, python_tokens[i].string))\r\n",
        "      \r\n",
        "      else:\r\n",
        "        tokenized_output.append((python_tokens[i].type, python_tokens[i].string))\r\n",
        "    \r\n",
        "    return tokenized_output"
      ],
      "execution_count": 14,
      "outputs": []
    },
    {
      "cell_type": "code",
      "metadata": {
        "colab": {
          "base_uri": "https://localhost:8080/"
        },
        "id": "3HJwaBJOhdxb",
        "outputId": "93880068-13d9-4723-8b57-b41b8db99818"
      },
      "source": [
        "tokenized_sample = augment_tokenize_python_code(dps[1]['solution'])\r\n",
        "print(tokenized_sample)"
      ],
      "execution_count": 15,
      "outputs": [
        {
          "output_type": "stream",
          "text": [
            "[(57, 'utf-8'), (1, 'def'), (1, 'add_two_numbers'), (53, '('), (1, 'var_1'), (53, ','), (1, 'var_2'), (53, ')'), (53, ':'), (4, '\\n'), (5, '    '), (1, 'sum'), (53, '='), (1, 'var_1'), (53, '+'), (1, 'var_2'), (4, '\\n'), (1, 'return'), (1, 'sum'), (4, '\\n'), (56, '\\n'), (56, '\\n'), (6, ''), (0, '')]\n"
          ],
          "name": "stdout"
        }
      ]
    },
    {
      "cell_type": "code",
      "metadata": {
        "colab": {
          "base_uri": "https://localhost:8080/"
        },
        "id": "ciLm6oezs3A2",
        "outputId": "a6540bc3-0cd6-4bff-9d54-d8977e0d5e12"
      },
      "source": [
        "print(untokenize(tokenized_sample).decode('utf-8'))"
      ],
      "execution_count": 16,
      "outputs": [
        {
          "output_type": "stream",
          "text": [
            "def add_two_numbers (var_1 ,var_2 ):\n",
            "    sum =var_1 +var_2 \n",
            "    return sum \n",
            "\n",
            "\n",
            "\n"
          ],
          "name": "stdout"
        }
      ]
    },
    {
      "cell_type": "markdown",
      "metadata": {
        "id": "9hYArh3OznQ0"
      },
      "source": [
        "As one can see our augmented tokenizer picked num2 randomly and masked(replaced) it with by var_1"
      ]
    },
    {
      "cell_type": "markdown",
      "metadata": {
        "id": "shdWBNLu0DkK"
      },
      "source": [
        "## Building Train and Validation Dataset"
      ]
    },
    {
      "cell_type": "code",
      "metadata": {
        "id": "mhBx_KFVaJIK"
      },
      "source": [
        "python_problems_df = pd.DataFrame(dps)"
      ],
      "execution_count": 17,
      "outputs": []
    },
    {
      "cell_type": "code",
      "metadata": {
        "colab": {
          "base_uri": "https://localhost:8080/",
          "height": 197
        },
        "id": "6i3TKNUoaWPC",
        "outputId": "5f3dffab-78ee-49a4-cfcf-d68ea36b9364"
      },
      "source": [
        "python_problems_df.head()"
      ],
      "execution_count": 18,
      "outputs": [
        {
          "output_type": "execute_result",
          "data": {
            "text/html": [
              "<div>\n",
              "<style scoped>\n",
              "    .dataframe tbody tr th:only-of-type {\n",
              "        vertical-align: middle;\n",
              "    }\n",
              "\n",
              "    .dataframe tbody tr th {\n",
              "        vertical-align: top;\n",
              "    }\n",
              "\n",
              "    .dataframe thead th {\n",
              "        text-align: right;\n",
              "    }\n",
              "</style>\n",
              "<table border=\"1\" class=\"dataframe\">\n",
              "  <thead>\n",
              "    <tr style=\"text-align: right;\">\n",
              "      <th></th>\n",
              "      <th>question</th>\n",
              "      <th>solution</th>\n",
              "    </tr>\n",
              "  </thead>\n",
              "  <tbody>\n",
              "    <tr>\n",
              "      <th>0</th>\n",
              "      <td>write a python program to add two numbers \\n</td>\n",
              "      <td>num1 = 1.5\\nnum2 = 6.3\\nsum = num1 + num2\\npri...</td>\n",
              "    </tr>\n",
              "    <tr>\n",
              "      <th>1</th>\n",
              "      <td>write a python function to add two user provi...</td>\n",
              "      <td>def add_two_numbers(num1, num2):\\n    sum = nu...</td>\n",
              "    </tr>\n",
              "    <tr>\n",
              "      <th>2</th>\n",
              "      <td>write a program to find and print the largest...</td>\n",
              "      <td>\\nnum1 = 10\\nnum2 = 12\\nnum3 = 14\\nif (num1 &gt;=...</td>\n",
              "    </tr>\n",
              "    <tr>\n",
              "      <th>3</th>\n",
              "      <td>write a program to find and print the smalles...</td>\n",
              "      <td>num1 = 10\\nnum2 = 12\\nnum3 = 14\\nif (num1 &lt;= n...</td>\n",
              "    </tr>\n",
              "    <tr>\n",
              "      <th>4</th>\n",
              "      <td>Write a python function to merge two given li...</td>\n",
              "      <td>def merge_lists(l1, l2):\\n    return l1 + l2\\n...</td>\n",
              "    </tr>\n",
              "  </tbody>\n",
              "</table>\n",
              "</div>"
            ],
            "text/plain": [
              "                                            question                                           solution\n",
              "0       write a python program to add two numbers \\n  num1 = 1.5\\nnum2 = 6.3\\nsum = num1 + num2\\npri...\n",
              "1   write a python function to add two user provi...  def add_two_numbers(num1, num2):\\n    sum = nu...\n",
              "2   write a program to find and print the largest...  \\nnum1 = 10\\nnum2 = 12\\nnum3 = 14\\nif (num1 >=...\n",
              "3   write a program to find and print the smalles...  num1 = 10\\nnum2 = 12\\nnum3 = 14\\nif (num1 <= n...\n",
              "4   Write a python function to merge two given li...  def merge_lists(l1, l2):\\n    return l1 + l2\\n..."
            ]
          },
          "metadata": {
            "tags": []
          },
          "execution_count": 18
        }
      ]
    },
    {
      "cell_type": "code",
      "metadata": {
        "colab": {
          "base_uri": "https://localhost:8080/"
        },
        "id": "A_93zNqfepxY",
        "outputId": "44684812-ca17-4d45-ccc7-d5b2c9b3dffe"
      },
      "source": [
        "python_problems_df.shape"
      ],
      "execution_count": 19,
      "outputs": [
        {
          "output_type": "execute_result",
          "data": {
            "text/plain": [
              "(4957, 2)"
            ]
          },
          "metadata": {
            "tags": []
          },
          "execution_count": 19
        }
      ]
    },
    {
      "cell_type": "code",
      "metadata": {
        "id": "5cdHbscZsSJu"
      },
      "source": [
        "import numpy as np\r\n",
        "\r\n",
        "np.random.seed(0)\r\n",
        "msk = np.random.rand(len(python_problems_df)) < 0.85 # Splitting data into 85% train and 15% validation\r\n",
        "\r\n",
        "train_df = python_problems_df[msk]\r\n",
        "val_df = python_problems_df[~msk]"
      ],
      "execution_count": 20,
      "outputs": []
    },
    {
      "cell_type": "code",
      "metadata": {
        "colab": {
          "base_uri": "https://localhost:8080/"
        },
        "id": "jDtZSkLUu53D",
        "outputId": "a5ee6731-9fb5-4448-970b-f7fab4d307ab"
      },
      "source": [
        "train_df.shape"
      ],
      "execution_count": 21,
      "outputs": [
        {
          "output_type": "execute_result",
          "data": {
            "text/plain": [
              "(4211, 2)"
            ]
          },
          "metadata": {
            "tags": []
          },
          "execution_count": 21
        }
      ]
    },
    {
      "cell_type": "code",
      "metadata": {
        "colab": {
          "base_uri": "https://localhost:8080/"
        },
        "id": "c3SkbK0Qu9TZ",
        "outputId": "7647cc5a-4c26-48bf-a4e0-c2fd911269b1"
      },
      "source": [
        "val_df.shape"
      ],
      "execution_count": 22,
      "outputs": [
        {
          "output_type": "execute_result",
          "data": {
            "text/plain": [
              "(746, 2)"
            ]
          },
          "metadata": {
            "tags": []
          },
          "execution_count": 22
        }
      ]
    },
    {
      "cell_type": "markdown",
      "metadata": {
        "id": "6u7EyiRZ6brX"
      },
      "source": [
        "## Creating vocabulary using torchtext"
      ]
    },
    {
      "cell_type": "code",
      "metadata": {
        "id": "PlIi4zsLKwLE"
      },
      "source": [
        "SEED = 1234\r\n",
        "\r\n",
        "random.seed(SEED)\r\n",
        "torch.manual_seed(SEED)\r\n",
        "torch.cuda.manual_seed(SEED)\r\n",
        "torch.backends.cudnn.deterministic = True"
      ],
      "execution_count": 23,
      "outputs": []
    },
    {
      "cell_type": "code",
      "metadata": {
        "id": "dLID_2ZtixKY"
      },
      "source": [
        "Input = data.Field(tokenize = 'spacy',\r\n",
        "            init_token='<sos>', \r\n",
        "            eos_token='<eos>', \r\n",
        "            lower=True)\r\n",
        "\r\n",
        "Output = data.Field(tokenize = augment_tokenize_python_code,\r\n",
        "                    init_token='<sos>', \r\n",
        "                    eos_token='<eos>', \r\n",
        "                    lower=False)"
      ],
      "execution_count": 24,
      "outputs": []
    },
    {
      "cell_type": "code",
      "metadata": {
        "id": "ttEpbc2rixPx"
      },
      "source": [
        "fields = [('Input', Input),('Output', Output)]"
      ],
      "execution_count": 25,
      "outputs": []
    },
    {
      "cell_type": "code",
      "metadata": {
        "id": "uP_yJeqjoLLV"
      },
      "source": [
        "train_example = []\r\n",
        "val_example = []\r\n",
        "\r\n",
        "train_expansion_factor = 100\r\n",
        "for j in range(train_expansion_factor):\r\n",
        "  for i in range(train_df.shape[0]):\r\n",
        "      try:\r\n",
        "          ex = data.Example.fromlist([train_df.question[i], train_df.solution[i]], fields)\r\n",
        "          train_example.append(ex)\r\n",
        "      except:\r\n",
        "          pass\r\n",
        "\r\n",
        "for i in range(val_df.shape[0]):\r\n",
        "    try:\r\n",
        "        ex = data.Example.fromlist([val_df.question[i], val_df.solution[i]], fields)\r\n",
        "        val_example.append(ex)\r\n",
        "    except:\r\n",
        "        pass       "
      ],
      "execution_count": 26,
      "outputs": []
    },
    {
      "cell_type": "code",
      "metadata": {
        "id": "ooT2EqpmtcAW"
      },
      "source": [
        "train_data = data.Dataset(train_example, fields)\r\n",
        "valid_data =  data.Dataset(val_example, fields)"
      ],
      "execution_count": 27,
      "outputs": []
    },
    {
      "cell_type": "code",
      "metadata": {
        "id": "Uk4zu6Ntqgfr"
      },
      "source": [
        "Input.build_vocab(train_data, min_freq = 0)\r\n",
        "Output.build_vocab(train_data, min_freq = 0)"
      ],
      "execution_count": 28,
      "outputs": []
    },
    {
      "cell_type": "code",
      "metadata": {
        "colab": {
          "base_uri": "https://localhost:8080/"
        },
        "id": "oA17CYnDJa4D",
        "outputId": "fa8f2803-86c0-4035-f123-61122835da01"
      },
      "source": [
        "Output.vocab"
      ],
      "execution_count": 29,
      "outputs": [
        {
          "output_type": "execute_result",
          "data": {
            "text/plain": [
              "<torchtext.vocab.Vocab at 0x7f39d564d590>"
            ]
          },
          "metadata": {
            "tags": []
          },
          "execution_count": 29
        }
      ]
    },
    {
      "cell_type": "code",
      "metadata": {
        "id": "h5f1HbzYuEcD"
      },
      "source": [
        "def save_vocab(vocab, path):\r\n",
        "    import pickle\r\n",
        "    output = open(path, 'wb')\r\n",
        "    pickle.dump(vocab, output)\r\n",
        "    output.close()"
      ],
      "execution_count": 30,
      "outputs": []
    },
    {
      "cell_type": "code",
      "metadata": {
        "id": "lN6tUrOxuFac"
      },
      "source": [
        "# save_vocab(Input.vocab, \"/content/drive/MyDrive/TheSchoolOfAI/EndCapstone/src_vocab.pkl\")\r\n",
        "# save_vocab(Output.vocab, \"/content/drive/MyDrive/TheSchoolOfAI/EndCapstone/trg_vocab.pkl\")"
      ],
      "execution_count": 31,
      "outputs": []
    },
    {
      "cell_type": "code",
      "metadata": {
        "colab": {
          "base_uri": "https://localhost:8080/"
        },
        "id": "4pv-5RpJuAjb",
        "outputId": "d5580075-c9a3-4edf-da32-ed9c11d574e2"
      },
      "source": [
        "device = torch.device('cuda' if torch.cuda.is_available() else 'cpu')\r\n",
        "device"
      ],
      "execution_count": 32,
      "outputs": [
        {
          "output_type": "execute_result",
          "data": {
            "text/plain": [
              "device(type='cuda')"
            ]
          },
          "metadata": {
            "tags": []
          },
          "execution_count": 32
        }
      ]
    },
    {
      "cell_type": "code",
      "metadata": {
        "colab": {
          "base_uri": "https://localhost:8080/"
        },
        "id": "EgNa1xUluGHc",
        "outputId": "770f1598-94e7-4924-ef0e-3bdf65f6a847"
      },
      "source": [
        "train_data[0].Output"
      ],
      "execution_count": 33,
      "outputs": [
        {
          "output_type": "execute_result",
          "data": {
            "text/plain": [
              "[(57, 'utf-8'),\n",
              " (1, 'var_1'),\n",
              " (53, '='),\n",
              " (2, '1.5'),\n",
              " (4, '\\n'),\n",
              " (1, 'num2'),\n",
              " (53, '='),\n",
              " (2, '6.3'),\n",
              " (4, '\\n'),\n",
              " (1, 'sum'),\n",
              " (53, '='),\n",
              " (1, 'var_1'),\n",
              " (53, '+'),\n",
              " (1, 'num2'),\n",
              " (4, '\\n'),\n",
              " (1, 'print'),\n",
              " (53, '('),\n",
              " (3, \"f'Sum: {sum}'\"),\n",
              " (53, ')'),\n",
              " (4, ''),\n",
              " (0, '')]"
            ]
          },
          "metadata": {
            "tags": []
          },
          "execution_count": 33
        }
      ]
    },
    {
      "cell_type": "code",
      "metadata": {
        "colab": {
          "base_uri": "https://localhost:8080/"
        },
        "id": "r59eVHnSuSb6",
        "outputId": "7c6ddfc1-c45b-40be-97f9-c2166b595cd9"
      },
      "source": [
        "(len(train_data), len(valid_data))"
      ],
      "execution_count": 34,
      "outputs": [
        {
          "output_type": "execute_result",
          "data": {
            "text/plain": [
              "(355100, 116)"
            ]
          },
          "metadata": {
            "tags": []
          },
          "execution_count": 34
        }
      ]
    },
    {
      "cell_type": "code",
      "metadata": {
        "colab": {
          "base_uri": "https://localhost:8080/"
        },
        "id": "2sZedgyzu7cD",
        "outputId": "4ce0fd15-49eb-4558-94ca-dc93449defe7"
      },
      "source": [
        "print(vars(train_data.examples[1]))"
      ],
      "execution_count": 35,
      "outputs": [
        {
          "output_type": "stream",
          "text": [
            "{'Input': [' ', 'write', 'a', 'python', 'function', 'to', 'add', 'two', 'user', 'provided', 'numbers', 'and', 'return', 'the', 'sum'], 'Output': [(57, 'utf-8'), (1, 'def'), (1, 'add_two_numbers'), (53, '('), (1, 'num1'), (53, ','), (1, 'var_1'), (53, ')'), (53, ':'), (4, '\\n'), (5, '    '), (1, 'sum'), (53, '='), (1, 'num1'), (53, '+'), (1, 'var_1'), (4, '\\n'), (1, 'return'), (1, 'sum'), (4, ''), (6, ''), (0, '')]}\n"
          ],
          "name": "stdout"
        }
      ]
    },
    {
      "cell_type": "code",
      "metadata": {
        "id": "v8evHX8YvY_o"
      },
      "source": [
        "BATCH_SIZE = 16\r\n",
        "train_iterator, valid_iterator = BucketIterator.splits((train_data, valid_data), batch_size = BATCH_SIZE, \r\n",
        "                                                            sort_key = lambda x: len(x.Input),\r\n",
        "                                                            sort_within_batch=True, device = device)"
      ],
      "execution_count": 36,
      "outputs": []
    },
    {
      "cell_type": "markdown",
      "metadata": {
        "id": "njS_msug6eQ3"
      },
      "source": [
        "# Transformer Architecture"
      ]
    },
    {
      "cell_type": "markdown",
      "metadata": {
        "id": "bd-C0ntd8x1e"
      },
      "source": [
        "Our transformer can be understood in terms of its three components:\r\n",
        "1. An Encoder that encodes an input sequence into state representation vectors.\r\n",
        "2. An Attention mechanism that enables our Transformer model to focus on the right aspects of the sequential input stream. This is used repeatedly within both the encoder and the decoder to help them contextualize the input data.\r\n",
        "3. A Decoder that decodes the state representation vector to generate the target output sequence"
      ]
    },
    {
      "cell_type": "markdown",
      "metadata": {
        "id": "cSjhBKP59ntL"
      },
      "source": [
        "## Encoder"
      ]
    },
    {
      "cell_type": "markdown",
      "metadata": {
        "id": "HgvD_MpkC2OS"
      },
      "source": [
        "![](https://raw.githubusercontent.com/bentrevett/pytorch-seq2seq/9479fcb532214ad26fd4bda9fcf081a05e1aaf4e/assets/transformer-encoder.png)"
      ]
    },
    {
      "cell_type": "markdown",
      "metadata": {
        "id": "rQYN9WDA9Hh_"
      },
      "source": [
        "Our Encoder accepts a batch of source sequences and sequence masks as input. The source mask contains 1 in locations where the input sequence has valid values and 0 where the input sequence has <pad> values. This ensures that the attention mechanism within the encoder does not pay attention to <pad> values.\r\n",
        "\r\n",
        "We convert our source sequence tokens into embeddings(‘tok_embedding’) of ‘hid_dim’ length. Since were are not using any recurrent networks we need to tag each token with its positional indices in order to preserve sequential information. We create an indices tensor(i.e. ‘pos’) and convert this into an embedding(‘pos_embedding’) of length ‘hid_dim’. This is combined with the source sequence embeddings to create our initial Encoder Layer input tensor src. This src tensor is passed through a series of Encoder Layers."
      ]
    },
    {
      "cell_type": "code",
      "metadata": {
        "id": "NE6JimgOCz-w"
      },
      "source": [
        "class Encoder(nn.Module):\r\n",
        "    def __init__(self, \r\n",
        "                 input_dim, \r\n",
        "                 hid_dim, \r\n",
        "                 n_layers, \r\n",
        "                 n_heads, \r\n",
        "                 pf_dim,\r\n",
        "                 dropout, \r\n",
        "                 device,\r\n",
        "                 max_length = 1000):\r\n",
        "        super().__init__()\r\n",
        "\r\n",
        "        self.device = device\r\n",
        "        \r\n",
        "        self.tok_embedding = nn.Embedding(input_dim, hid_dim)\r\n",
        "        self.pos_embedding = nn.Embedding(max_length, hid_dim)\r\n",
        "        \r\n",
        "        self.layers = nn.ModuleList([EncoderLayer(hid_dim, \r\n",
        "                                                  n_heads, \r\n",
        "                                                  pf_dim,\r\n",
        "                                                  dropout, \r\n",
        "                                                  device) \r\n",
        "                                     for _ in range(n_layers)])\r\n",
        "        \r\n",
        "        self.dropout = nn.Dropout(dropout)\r\n",
        "        \r\n",
        "        self.scale = torch.sqrt(torch.FloatTensor([hid_dim])).to(device)\r\n",
        "        \r\n",
        "    def forward(self, src, src_mask):\r\n",
        "        \r\n",
        "        #src = [batch size, src len]\r\n",
        "        #src_mask = [batch size, 1, 1, src len]\r\n",
        "        \r\n",
        "        batch_size = src.shape[0]\r\n",
        "        src_len = src.shape[1]\r\n",
        "\r\n",
        "        pos = torch.arange(0, src_len).unsqueeze(0).repeat(batch_size, 1).to(self.device)\r\n",
        "        \r\n",
        "        #pos = [batch size, src len]\r\n",
        "        src = self.dropout((self.tok_embedding(src) * self.scale) + self.pos_embedding(pos))\r\n",
        "        \r\n",
        "        #src = [batch size, src len, hid dim]\r\n",
        "        \r\n",
        "        for layer in self.layers:\r\n",
        "            src = layer(src, src_mask)\r\n",
        "            \r\n",
        "        #src = [batch size, src len, hid dim]\r\n",
        "            \r\n",
        "        return src"
      ],
      "execution_count": 37,
      "outputs": []
    },
    {
      "cell_type": "markdown",
      "metadata": {
        "id": "z1E12pQr9REU"
      },
      "source": [
        "An EncoderLayer is the basic building block of our Transformer’s Encoder component. Our src tensor along with its ‘src_mask’ are sent into a multi-head self-attention operation to help our model focus on the necessary aspects of the src tensor. The output from the attention operation is combined with the src tensor(via skip connection) and normalized to avoid vanishing/exploding gradients(during training). This combined output is sent into a PositionwiseFeedForwardLayer."
      ]
    },
    {
      "cell_type": "code",
      "metadata": {
        "id": "2LheiXWVFDEg"
      },
      "source": [
        "class EncoderLayer(nn.Module):\r\n",
        "    def __init__(self, \r\n",
        "                 hid_dim, \r\n",
        "                 n_heads, \r\n",
        "                 pf_dim,  \r\n",
        "                 dropout, \r\n",
        "                 device):\r\n",
        "        super().__init__()\r\n",
        "        \r\n",
        "        self.self_attn_layer_norm = nn.LayerNorm(hid_dim)\r\n",
        "        self.ff_layer_norm = nn.LayerNorm(hid_dim)\r\n",
        "        self.self_attention = MultiHeadAttentionLayer(hid_dim, n_heads, dropout, device)\r\n",
        "        self.positionwise_feedforward = PositionwiseFeedforwardLayer(hid_dim, \r\n",
        "                                                                     pf_dim, \r\n",
        "                                                                     dropout)\r\n",
        "        self.dropout = nn.Dropout(dropout)\r\n",
        "        \r\n",
        "    def forward(self, src, src_mask):\r\n",
        "        \r\n",
        "        #src = [batch size, src len, hid dim]\r\n",
        "        #src_mask = [batch size, 1, 1, src len] \r\n",
        "                \r\n",
        "        #self attention\r\n",
        "        _src, _ = self.self_attention(src, src, src, src_mask)\r\n",
        "        \r\n",
        "        #dropout, residual connection and layer norm\r\n",
        "        src = self.self_attn_layer_norm(src + self.dropout(_src))\r\n",
        "        \r\n",
        "        #src = [batch size, src len, hid dim]\r\n",
        "        \r\n",
        "        #positionwise feedforward\r\n",
        "        _src = self.positionwise_feedforward(src)\r\n",
        "        \r\n",
        "        #dropout, residual and layer norm\r\n",
        "        src = self.ff_layer_norm(src + self.dropout(_src))\r\n",
        "        \r\n",
        "        #src = [batch size, src len, hid dim]\r\n",
        "        \r\n",
        "        return src"
      ],
      "execution_count": 38,
      "outputs": []
    },
    {
      "cell_type": "markdown",
      "metadata": {
        "id": "6h_Iqnk4Jg5k"
      },
      "source": [
        "![](https://raw.githubusercontent.com/bentrevett/pytorch-seq2seq/9479fcb532214ad26fd4bda9fcf081a05e1aaf4e/assets/transformer-attention.png)"
      ]
    },
    {
      "cell_type": "markdown",
      "metadata": {
        "id": "bjEVmTzG9uZ4"
      },
      "source": [
        "A PositionwiseFeedForwardLayer takes the combined input and processes it further using two fully connected layers and a Relu activation function between them. This in combination with the src embedding is the final output of an EncoderLayer. This process repeats for each EncoderLayer block.\r\n"
      ]
    },
    {
      "cell_type": "code",
      "metadata": {
        "id": "R9w9xDUKL7LU"
      },
      "source": [
        "class PositionwiseFeedforwardLayer(nn.Module):\r\n",
        "    def __init__(self, hid_dim, pf_dim, dropout):\r\n",
        "        super().__init__()\r\n",
        "        \r\n",
        "        self.fc_1 = nn.Linear(hid_dim, pf_dim)\r\n",
        "        self.fc_2 = nn.Linear(pf_dim, hid_dim)\r\n",
        "        \r\n",
        "        self.dropout = nn.Dropout(dropout)\r\n",
        "        \r\n",
        "    def forward(self, x):\r\n",
        "        \r\n",
        "        #x = [batch size, seq len, hid dim]\r\n",
        "        \r\n",
        "        x = self.dropout(torch.relu(self.fc_1(x)))\r\n",
        "        \r\n",
        "        #x = [batch size, seq len, pf dim]\r\n",
        "        \r\n",
        "        x = self.fc_2(x)\r\n",
        "        \r\n",
        "        #x = [batch size, seq len, hid dim]\r\n",
        "        \r\n",
        "        return x"
      ],
      "execution_count": 39,
      "outputs": []
    },
    {
      "cell_type": "markdown",
      "metadata": {
        "id": "VroGxzNo-GGI"
      },
      "source": [
        "## Attention"
      ]
    },
    {
      "cell_type": "markdown",
      "metadata": {
        "id": "b3MtR2yd-Iaz"
      },
      "source": [
        "Attention is a mechanism that allows a model to focus on the necessary parts of the input sequence as per the demands of the task at hand.\r\n",
        "\r\n",
        "Researchers at google like to look at everything as an information retrieval problem. Therefore the [“Attention is all you need”](https://arxiv.org/abs/1706.03762) paper tries to look at attention in terms of “Query”, “Keys” and “Values”. A search engine accepts a “Query” and tries to match it up with Indices(i.e. Keys) in order to get appropriate values as results for the query. Similarly one can think of attention as a mechanism in which the query vector and key vector work towards getting the right attention weights(i.e. values).\r\n",
        "\r\n",
        "When multiple channels(or heads) of attention are applied in parallel to a single source, it is known as multi-head attention. This increases the learning capacity of the model and therefore leads to better results."
      ]
    },
    {
      "cell_type": "code",
      "metadata": {
        "id": "ZZmeHfGhGzkN"
      },
      "source": [
        "class MultiHeadAttentionLayer(nn.Module):\r\n",
        "    def __init__(self, hid_dim, n_heads, dropout, device):\r\n",
        "        super().__init__()\r\n",
        "        \r\n",
        "        assert hid_dim % n_heads == 0\r\n",
        "        \r\n",
        "        self.hid_dim = hid_dim\r\n",
        "        self.n_heads = n_heads\r\n",
        "        self.head_dim = hid_dim // n_heads\r\n",
        "        \r\n",
        "        self.fc_q = nn.Linear(hid_dim, hid_dim)\r\n",
        "        self.fc_k = nn.Linear(hid_dim, hid_dim)\r\n",
        "        self.fc_v = nn.Linear(hid_dim, hid_dim)\r\n",
        "        \r\n",
        "        self.fc_o = nn.Linear(hid_dim, hid_dim)\r\n",
        "        \r\n",
        "        self.dropout = nn.Dropout(dropout)\r\n",
        "        \r\n",
        "        self.scale = torch.sqrt(torch.FloatTensor([self.head_dim])).to(device)\r\n",
        "        \r\n",
        "    def forward(self, query, key, value, mask = None):\r\n",
        "        \r\n",
        "        batch_size = query.shape[0]\r\n",
        "        \r\n",
        "        #query = [batch size, query len, hid dim]\r\n",
        "        #key = [batch size, key len, hid dim]\r\n",
        "        #value = [batch size, value len, hid dim]\r\n",
        "                \r\n",
        "        Q = self.fc_q(query)\r\n",
        "        K = self.fc_k(key)\r\n",
        "        V = self.fc_v(value)\r\n",
        "        \r\n",
        "        #Q = [batch size, query len, hid dim]\r\n",
        "        #K = [batch size, key len, hid dim]\r\n",
        "        #V = [batch size, value len, hid dim]\r\n",
        "                \r\n",
        "        Q = Q.view(batch_size, -1, self.n_heads, self.head_dim).permute(0, 2, 1, 3)\r\n",
        "        K = K.view(batch_size, -1, self.n_heads, self.head_dim).permute(0, 2, 1, 3)\r\n",
        "        V = V.view(batch_size, -1, self.n_heads, self.head_dim).permute(0, 2, 1, 3)\r\n",
        "        \r\n",
        "        #Q = [batch size, n heads, query len, head dim]\r\n",
        "        #K = [batch size, n heads, key len, head dim]\r\n",
        "        #V = [batch size, n heads, value len, head dim]\r\n",
        "                \r\n",
        "        energy = torch.matmul(Q, K.permute(0, 1, 3, 2)) / self.scale\r\n",
        "        \r\n",
        "        #energy = [batch size, n heads, query len, key len]\r\n",
        "        \r\n",
        "        if mask is not None:\r\n",
        "            energy = energy.masked_fill(mask == 0, -1e10)\r\n",
        "        \r\n",
        "        attention = torch.softmax(energy, dim = -1)\r\n",
        "                \r\n",
        "        #attention = [batch size, n heads, query len, key len]\r\n",
        "                \r\n",
        "        x = torch.matmul(self.dropout(attention), V)\r\n",
        "        \r\n",
        "        #x = [batch size, n heads, query len, head dim]\r\n",
        "        \r\n",
        "        x = x.permute(0, 2, 1, 3).contiguous()\r\n",
        "        \r\n",
        "        #x = [batch size, query len, n heads, head dim]\r\n",
        "        \r\n",
        "        x = x.view(batch_size, -1, self.hid_dim)\r\n",
        "        \r\n",
        "        #x = [batch size, query len, hid dim]\r\n",
        "        \r\n",
        "        x = self.fc_o(x)\r\n",
        "        \r\n",
        "        #x = [batch size, query len, hid dim]\r\n",
        "        \r\n",
        "        return x, attention"
      ],
      "execution_count": 40,
      "outputs": []
    },
    {
      "cell_type": "markdown",
      "metadata": {
        "id": "ZBFqGg5z-o_r"
      },
      "source": [
        "## Decoder"
      ]
    },
    {
      "cell_type": "markdown",
      "metadata": {
        "id": "YbTr7YPSMRpC"
      },
      "source": [
        "![](https://raw.githubusercontent.com/bentrevett/pytorch-seq2seq/9479fcb532214ad26fd4bda9fcf081a05e1aaf4e/assets/transformer-decoder.png)"
      ]
    },
    {
      "cell_type": "markdown",
      "metadata": {
        "id": "SaHaOGNm_Isc"
      },
      "source": [
        "The architecture of a Decoder is very similar to that of the encoder with the significant differences resulting from the presence of input from two sources, the target sequence and the state representation vector from the encoder. Much like how we had an EncoderLayer block for Encoder, we will be having a DecoderLayer that accepts as input the combination of the embedding from the target token sequence(tok_embedding) and embedding of positional indices for these tokens. And as mentioned earlier, the encoder’s output also acts as one of the inputs to the DecoderLayer."
      ]
    },
    {
      "cell_type": "code",
      "metadata": {
        "id": "iWBMMF45MMNS"
      },
      "source": [
        "class Decoder(nn.Module):\r\n",
        "    def __init__(self, \r\n",
        "                 output_dim, \r\n",
        "                 hid_dim, \r\n",
        "                 n_layers, \r\n",
        "                 n_heads, \r\n",
        "                 pf_dim, \r\n",
        "                 dropout, \r\n",
        "                 device,\r\n",
        "                 max_length = 10000):\r\n",
        "        super().__init__()\r\n",
        "        \r\n",
        "        self.device = device\r\n",
        "        \r\n",
        "        self.tok_embedding = nn.Embedding(output_dim, hid_dim)\r\n",
        "        self.pos_embedding = nn.Embedding(max_length, hid_dim)\r\n",
        "        \r\n",
        "        self.layers = nn.ModuleList([DecoderLayer(hid_dim, \r\n",
        "                                                  n_heads, \r\n",
        "                                                  pf_dim, \r\n",
        "                                                  dropout, \r\n",
        "                                                  device)\r\n",
        "                                     for _ in range(n_layers)])\r\n",
        "        \r\n",
        "        self.fc_out = nn.Linear(hid_dim, output_dim)\r\n",
        "        \r\n",
        "        self.dropout = nn.Dropout(dropout)\r\n",
        "        \r\n",
        "        self.scale = torch.sqrt(torch.FloatTensor([hid_dim])).to(device)\r\n",
        "        \r\n",
        "    def forward(self, trg, enc_src, trg_mask, src_mask):\r\n",
        "        \r\n",
        "        #trg = [batch size, trg len]\r\n",
        "        #enc_src = [batch size, src len, hid dim]\r\n",
        "        #trg_mask = [batch size, 1, trg len, trg len]\r\n",
        "        #src_mask = [batch size, 1, 1, src len]\r\n",
        "                \r\n",
        "        batch_size = trg.shape[0]\r\n",
        "        trg_len = trg.shape[1]\r\n",
        "        \r\n",
        "        pos = torch.arange(0, trg_len).unsqueeze(0).repeat(batch_size, 1).to(self.device)\r\n",
        "                            \r\n",
        "        #pos = [batch size, trg len]\r\n",
        "\r\n",
        "        trg = self.dropout((self.tok_embedding(trg) * self.scale) + self.pos_embedding(pos))\r\n",
        "                \r\n",
        "        #trg = [batch size, trg len, hid dim]\r\n",
        "        \r\n",
        "        for layer in self.layers:\r\n",
        "            trg, attention = layer(trg, enc_src, trg_mask, src_mask)\r\n",
        "        \r\n",
        "        #trg = [batch size, trg len, hid dim]\r\n",
        "        #attention = [batch size, n heads, trg len, src len]\r\n",
        "        \r\n",
        "        output = self.fc_out(trg)\r\n",
        "        \r\n",
        "        #output = [batch size, trg len, output dim]\r\n",
        "            \r\n",
        "        return output, attention"
      ],
      "execution_count": 41,
      "outputs": []
    },
    {
      "cell_type": "markdown",
      "metadata": {
        "id": "bcK1-4qZ_WBM"
      },
      "source": [
        "The DecoderLayer forms the building block of our Transformer’s decoder. Each DecoderLayer involves two attention operations:\r\n",
        "1. Self-attention on trg embedding.\r\n",
        "2. Multi-head attention operation that uses the trg as query vector and the encoder outputs act as the key and value vectors.\r\n",
        "\r\n",
        "The presence of an extra Multi-head attention operation differentiates the DecoderLayer from an EncoderLayer.\r\n",
        "\r\n",
        "The attention outputs from self-attention are normalized and combined with the trg embedding using a residual connection. This is then sent into the multi-head attention operation along with the encoder outputs. The attention layer outputs are then combined with the trg input again and normalized before sending it into the position-wise feedforward layer to generate the final outputs of the DecoderLayer.\r\n",
        "\r\n",
        "The purpose of all normalization operations is to prevent vanishing/exploding gradients during training."
      ]
    },
    {
      "cell_type": "code",
      "metadata": {
        "id": "CMEr1IFUMxco"
      },
      "source": [
        "class DecoderLayer(nn.Module):\r\n",
        "    def __init__(self, \r\n",
        "                 hid_dim, \r\n",
        "                 n_heads, \r\n",
        "                 pf_dim, \r\n",
        "                 dropout, \r\n",
        "                 device):\r\n",
        "        super().__init__()\r\n",
        "        \r\n",
        "        self.self_attn_layer_norm = nn.LayerNorm(hid_dim)\r\n",
        "        self.enc_attn_layer_norm = nn.LayerNorm(hid_dim)\r\n",
        "        self.ff_layer_norm = nn.LayerNorm(hid_dim)\r\n",
        "        self.self_attention = MultiHeadAttentionLayer(hid_dim, n_heads, dropout, device)\r\n",
        "        self.encoder_attention = MultiHeadAttentionLayer(hid_dim, n_heads, dropout, device)\r\n",
        "        self.positionwise_feedforward = PositionwiseFeedforwardLayer(hid_dim, \r\n",
        "                                                                     pf_dim, \r\n",
        "                                                                     dropout)\r\n",
        "        self.dropout = nn.Dropout(dropout)\r\n",
        "        \r\n",
        "    def forward(self, trg, enc_src, trg_mask, src_mask):\r\n",
        "        \r\n",
        "        #trg = [batch size, trg len, hid dim]\r\n",
        "        #enc_src = [batch size, src len, hid dim]\r\n",
        "        #trg_mask = [batch size, 1, trg len, trg len]\r\n",
        "        #src_mask = [batch size, 1, 1, src len]\r\n",
        "        \r\n",
        "        #self attention\r\n",
        "        _trg, _ = self.self_attention(trg, trg, trg, trg_mask)\r\n",
        "        \r\n",
        "        #dropout, residual connection and layer norm\r\n",
        "        trg = self.self_attn_layer_norm(trg + self.dropout(_trg))\r\n",
        "            \r\n",
        "        #trg = [batch size, trg len, hid dim]\r\n",
        "            \r\n",
        "        #encoder attention\r\n",
        "        _trg, attention = self.encoder_attention(trg, enc_src, enc_src, src_mask)\r\n",
        "        # query, key, value\r\n",
        "        \r\n",
        "        #dropout, residual connection and layer norm\r\n",
        "        trg = self.enc_attn_layer_norm(trg + self.dropout(_trg))\r\n",
        "                    \r\n",
        "        #trg = [batch size, trg len, hid dim]\r\n",
        "        \r\n",
        "        #positionwise feedforward\r\n",
        "        _trg = self.positionwise_feedforward(trg)\r\n",
        "        \r\n",
        "        #dropout, residual and layer norm\r\n",
        "        trg = self.ff_layer_norm(trg + self.dropout(_trg))\r\n",
        "        \r\n",
        "        #trg = [batch size, trg len, hid dim]\r\n",
        "        #attention = [batch size, n heads, trg len, src len]\r\n",
        "        \r\n",
        "        return trg, attention"
      ],
      "execution_count": 42,
      "outputs": []
    },
    {
      "cell_type": "markdown",
      "metadata": {
        "id": "udpPhQ2UN8oQ"
      },
      "source": [
        "The main class that implements a transformer for seq2seq problems is given below.\r\n"
      ]
    },
    {
      "cell_type": "code",
      "metadata": {
        "id": "Dr3Mg8OGN6ul"
      },
      "source": [
        "class Seq2Seq(nn.Module):\r\n",
        "    def __init__(self, \r\n",
        "                 encoder, \r\n",
        "                 decoder, \r\n",
        "                 src_pad_idx, \r\n",
        "                 trg_pad_idx, \r\n",
        "                 device):\r\n",
        "        super().__init__()\r\n",
        "        \r\n",
        "        self.encoder = encoder\r\n",
        "        self.decoder = decoder\r\n",
        "        self.src_pad_idx = src_pad_idx\r\n",
        "        self.trg_pad_idx = trg_pad_idx\r\n",
        "        self.device = device\r\n",
        "        \r\n",
        "    def make_src_mask(self, src):\r\n",
        "        \r\n",
        "        #src = [batch size, src len]\r\n",
        "        \r\n",
        "        src_mask = (src != self.src_pad_idx).unsqueeze(1).unsqueeze(2)\r\n",
        "\r\n",
        "        #src_mask = [batch size, 1, 1, src len]\r\n",
        "\r\n",
        "        return src_mask\r\n",
        "    \r\n",
        "    def make_trg_mask(self, trg):\r\n",
        "        \r\n",
        "        #trg = [batch size, trg len]\r\n",
        "        \r\n",
        "        trg_pad_mask = (trg != self.trg_pad_idx).unsqueeze(1).unsqueeze(2)\r\n",
        "        \r\n",
        "        #trg_pad_mask = [batch size, 1, 1, trg len]\r\n",
        "        \r\n",
        "        trg_len = trg.shape[1]\r\n",
        "        \r\n",
        "        trg_sub_mask = torch.tril(torch.ones((trg_len, trg_len), device = self.device)).bool()\r\n",
        "        \r\n",
        "        #trg_sub_mask = [trg len, trg len]\r\n",
        "            \r\n",
        "        trg_mask = trg_pad_mask & trg_sub_mask\r\n",
        "        \r\n",
        "        #trg_mask = [batch size, 1, trg len, trg len]\r\n",
        "        \r\n",
        "        return trg_mask\r\n",
        "\r\n",
        "    def forward(self, src, trg):\r\n",
        "        \r\n",
        "        #src = [batch size, src len]\r\n",
        "        #trg = [batch size, trg len]\r\n",
        "                \r\n",
        "        src_mask = self.make_src_mask(src)\r\n",
        "        trg_mask = self.make_trg_mask(trg)\r\n",
        "        \r\n",
        "        #src_mask = [batch size, 1, 1, src len]\r\n",
        "        #trg_mask = [batch size, 1, trg len, trg len]\r\n",
        "        \r\n",
        "        enc_src = self.encoder(src, src_mask)\r\n",
        "        \r\n",
        "        #enc_src = [batch size, src len, hid dim]\r\n",
        "                \r\n",
        "        output, attention = self.decoder(trg, enc_src, trg_mask, src_mask)\r\n",
        "        \r\n",
        "        #output = [batch size, trg len, output dim]\r\n",
        "        #attention = [batch size, n heads, trg len, src len]\r\n",
        "        \r\n",
        "        return output, attention"
      ],
      "execution_count": 43,
      "outputs": []
    },
    {
      "cell_type": "markdown",
      "metadata": {
        "id": "SvrK6zbF_2Fs"
      },
      "source": [
        "# Training"
      ]
    },
    {
      "cell_type": "code",
      "metadata": {
        "id": "4zsZjSSWOSHc"
      },
      "source": [
        "INPUT_DIM = len(Input.vocab)\r\n",
        "OUTPUT_DIM = len(Output.vocab)\r\n",
        "HID_DIM = 256\r\n",
        "ENC_LAYERS = 3\r\n",
        "DEC_LAYERS = 3\r\n",
        "ENC_HEADS = 16\r\n",
        "DEC_HEADS = 16\r\n",
        "ENC_PF_DIM = 512\r\n",
        "DEC_PF_DIM = 512\r\n",
        "ENC_DROPOUT = 0.1\r\n",
        "DEC_DROPOUT = 0.1\r\n",
        "\r\n",
        "enc = Encoder(INPUT_DIM, \r\n",
        "              HID_DIM, \r\n",
        "              ENC_LAYERS, \r\n",
        "              ENC_HEADS, \r\n",
        "              ENC_PF_DIM, \r\n",
        "              ENC_DROPOUT, \r\n",
        "              device)\r\n",
        "\r\n",
        "dec = Decoder(OUTPUT_DIM, \r\n",
        "              HID_DIM, \r\n",
        "              DEC_LAYERS, \r\n",
        "              DEC_HEADS, \r\n",
        "              DEC_PF_DIM, \r\n",
        "              DEC_DROPOUT, \r\n",
        "              device)"
      ],
      "execution_count": 44,
      "outputs": []
    },
    {
      "cell_type": "code",
      "metadata": {
        "colab": {
          "base_uri": "https://localhost:8080/"
        },
        "id": "x3vG-tI737e6",
        "outputId": "a4c3e15a-01a9-48ad-e65b-305aa387872f"
      },
      "source": [
        "len(Output.vocab.__dict__['freqs'])"
      ],
      "execution_count": 45,
      "outputs": [
        {
          "output_type": "execute_result",
          "data": {
            "text/plain": [
              "5666"
            ]
          },
          "metadata": {
            "tags": []
          },
          "execution_count": 45
        }
      ]
    },
    {
      "cell_type": "code",
      "metadata": {
        "id": "iYVZYDVcOUGK"
      },
      "source": [
        "SRC_PAD_IDX = Input.vocab.stoi[Input.pad_token]\r\n",
        "TRG_PAD_IDX = Output.vocab.stoi[Output.pad_token]\r\n",
        "\r\n",
        "model = Seq2Seq(enc, dec, SRC_PAD_IDX, TRG_PAD_IDX, device).to(device)"
      ],
      "execution_count": 46,
      "outputs": []
    },
    {
      "cell_type": "code",
      "metadata": {
        "colab": {
          "base_uri": "https://localhost:8080/"
        },
        "id": "Qd0ePzj0OzLa",
        "outputId": "05f76cf2-01fa-40a5-f50d-67b241afca43"
      },
      "source": [
        "def count_parameters(model):\r\n",
        "    return sum(p.numel() for p in model.parameters() if p.requires_grad)\r\n",
        "\r\n",
        "print(f'The model has {count_parameters(model):,} trainable parameters')"
      ],
      "execution_count": 47,
      "outputs": [
        {
          "output_type": "stream",
          "text": [
            "The model has 10,219,558 trainable parameters\n"
          ],
          "name": "stdout"
        }
      ]
    },
    {
      "cell_type": "code",
      "metadata": {
        "id": "fmZ0hyo8O0vE"
      },
      "source": [
        "def initialize_weights(m):\r\n",
        "    if hasattr(m, 'weight') and m.weight.dim() > 1:\r\n",
        "        nn.init.xavier_uniform_(m.weight.data)"
      ],
      "execution_count": 48,
      "outputs": []
    },
    {
      "cell_type": "code",
      "metadata": {
        "id": "NRtAM9Y4O2N2"
      },
      "source": [
        "model.apply(initialize_weights);"
      ],
      "execution_count": 49,
      "outputs": []
    },
    {
      "cell_type": "code",
      "metadata": {
        "id": "NEpApG3YO3ZE"
      },
      "source": [
        "LEARNING_RATE = 0.0005\r\n",
        "\r\n",
        "optimizer = torch.optim.Adam(model.parameters(), lr = LEARNING_RATE)"
      ],
      "execution_count": 50,
      "outputs": []
    },
    {
      "cell_type": "markdown",
      "metadata": {
        "id": "95cvaGRg_-Ml"
      },
      "source": [
        "## Loss function"
      ]
    },
    {
      "cell_type": "markdown",
      "metadata": {
        "id": "bs2XdrveCtDD"
      },
      "source": [
        "We have used augmentations in our dataset to mask variable literals. This means that our model can predict a variety of values for a particular variable and all of them are correct as long as the predictions are consistent through the code. This would mean that our training labels are not very certain and hence it would make more sense to treat them to be correct with probability ```1- smooth_eps``` and incorrect otherwise. The following is the implementation of CrossEntropyLoss with label smoothening."
      ]
    },
    {
      "cell_type": "code",
      "metadata": {
        "id": "NNfxmsLxD7yb"
      },
      "source": [
        "import torch\r\n",
        "import math\r\n",
        "import torch.nn as nn\r\n",
        "import torch.nn.functional as F\r\n",
        "\r\n",
        "class CrossEntropyLoss(nn.CrossEntropyLoss):\r\n",
        "    \"\"\"CrossEntropyLoss - with ability to recieve distrbution as targets, and optional label smoothing\"\"\"\r\n",
        "\r\n",
        "    def __init__(self, weight=None, ignore_index=-100, reduction='mean', smooth_eps=None, smooth_dist=None, from_logits=True):\r\n",
        "        super(CrossEntropyLoss, self).__init__(weight=weight,\r\n",
        "                                               ignore_index=ignore_index, reduction=reduction)\r\n",
        "        self.smooth_eps = smooth_eps\r\n",
        "        self.smooth_dist = smooth_dist\r\n",
        "        self.from_logits = from_logits\r\n",
        "\r\n",
        "    def forward(self, input, target, smooth_dist=None):\r\n",
        "        if smooth_dist is None:\r\n",
        "            smooth_dist = self.smooth_dist\r\n",
        "        return cross_entropy(input, target, weight=self.weight, ignore_index=self.ignore_index,\r\n",
        "                             reduction=self.reduction, smooth_eps=self.smooth_eps,\r\n",
        "                             smooth_dist=smooth_dist, from_logits=self.from_logits)\r\n",
        "\r\n",
        "\r\n",
        "def cross_entropy(inputs, target, weight=None, ignore_index=-100, reduction='mean',\r\n",
        "                  smooth_eps=None, smooth_dist=None, from_logits=True):\r\n",
        "    \"\"\"cross entropy loss, with support for target distributions and label smoothing https://arxiv.org/abs/1512.00567\"\"\"\r\n",
        "    smooth_eps = smooth_eps or 0\r\n",
        "\r\n",
        "    # ordinary log-liklihood - use cross_entropy from nn\r\n",
        "    if _is_long(target) and smooth_eps == 0:\r\n",
        "        if from_logits:\r\n",
        "            return F.cross_entropy(inputs, target, weight, ignore_index=ignore_index, reduction=reduction)\r\n",
        "        else:\r\n",
        "            return F.nll_loss(inputs, target, weight, ignore_index=ignore_index, reduction=reduction)\r\n",
        "\r\n",
        "    if from_logits:\r\n",
        "        # log-softmax of inputs\r\n",
        "        lsm = F.log_softmax(inputs, dim=-1)\r\n",
        "    else:\r\n",
        "        lsm = inputs\r\n",
        "\r\n",
        "    masked_indices = None\r\n",
        "    num_classes = inputs.size(-1)\r\n",
        "\r\n",
        "    if _is_long(target) and ignore_index >= 0:\r\n",
        "        masked_indices = target.eq(ignore_index)\r\n",
        "\r\n",
        "    if smooth_eps > 0 and smooth_dist is not None:\r\n",
        "        if _is_long(target):\r\n",
        "            target = onehot(target, num_classes).type_as(inputs)\r\n",
        "        if smooth_dist.dim() < target.dim():\r\n",
        "            smooth_dist = smooth_dist.unsqueeze(0)\r\n",
        "        target.lerp_(smooth_dist, smooth_eps)\r\n",
        "\r\n",
        "    if weight is not None:\r\n",
        "        lsm = lsm * weight.unsqueeze(0)\r\n",
        "\r\n",
        "    if _is_long(target):\r\n",
        "        eps_sum = smooth_eps / num_classes\r\n",
        "        eps_nll = 1. - eps_sum - smooth_eps\r\n",
        "        likelihood = lsm.gather(dim=-1, index=target.unsqueeze(-1)).squeeze(-1)\r\n",
        "        loss = -(eps_nll * likelihood + eps_sum * lsm.sum(-1))\r\n",
        "    else:\r\n",
        "        loss = -(target * lsm).sum(-1)\r\n",
        "\r\n",
        "    if masked_indices is not None:\r\n",
        "        loss.masked_fill_(masked_indices, 0)\r\n",
        "\r\n",
        "    if reduction == 'sum':\r\n",
        "        loss = loss.sum()\r\n",
        "    elif reduction == 'mean':\r\n",
        "        if masked_indices is None:\r\n",
        "            loss = loss.mean()\r\n",
        "        else:\r\n",
        "            loss = loss.sum() / float(loss.size(0) - masked_indices.sum())\r\n",
        "\r\n",
        "    return loss\r\n",
        "\r\n",
        "\r\n",
        "def onehot(indexes, N=None, ignore_index=None):\r\n",
        "    \"\"\"\r\n",
        "    Creates a one-representation of indexes with N possible entries\r\n",
        "    if N is not specified, it will suit the maximum index appearing.\r\n",
        "    indexes is a long-tensor of indexes\r\n",
        "    ignore_index will be zero in onehot representation\r\n",
        "    \"\"\"\r\n",
        "    if N is None:\r\n",
        "        N = indexes.max() + 1\r\n",
        "    sz = list(indexes.size())\r\n",
        "    output = indexes.new().byte().resize_(*sz, N).zero_()\r\n",
        "    output.scatter_(-1, indexes.unsqueeze(-1), 1)\r\n",
        "    if ignore_index is not None and ignore_index >= 0:\r\n",
        "        output.masked_fill_(indexes.eq(ignore_index).unsqueeze(-1), 0)\r\n",
        "    return output\r\n",
        "\r\n",
        "def _is_long(x):\r\n",
        "    if hasattr(x, 'data'):\r\n",
        "        x = x.data\r\n",
        "    return isinstance(x, torch.LongTensor) or isinstance(x, torch.cuda.LongTensor)\r\n"
      ],
      "execution_count": 51,
      "outputs": []
    },
    {
      "cell_type": "code",
      "metadata": {
        "id": "RnWtafKlAhb_"
      },
      "source": [
        "def maskNLLLoss(inp, target, mask):\r\n",
        "    # print(inp.shape, target.shape, mask.sum())\r\n",
        "    nTotal = mask.sum()\r\n",
        "    crossEntropy = CrossEntropyLoss(ignore_index = TRG_PAD_IDX, smooth_eps=0.20)\r\n",
        "    loss = crossEntropy(inp, target)\r\n",
        "    loss = loss.to(device)\r\n",
        "    return loss, nTotal.item()"
      ],
      "execution_count": 52,
      "outputs": []
    },
    {
      "cell_type": "code",
      "metadata": {
        "id": "n9Dy_wWrO46l"
      },
      "source": [
        "criterion = maskNLLLoss"
      ],
      "execution_count": 53,
      "outputs": []
    },
    {
      "cell_type": "markdown",
      "metadata": {
        "id": "BQGdcEFmAxlO"
      },
      "source": [
        "## Training"
      ]
    },
    {
      "cell_type": "code",
      "metadata": {
        "id": "ycBBiEpuO6cG"
      },
      "source": [
        "from tqdm import tqdm\r\n",
        "\r\n",
        "def make_trg_mask(trg):\r\n",
        "        \r\n",
        "        #trg = [batch size, trg len]\r\n",
        "        \r\n",
        "        trg_pad_mask = (trg != TRG_PAD_IDX).unsqueeze(1).unsqueeze(2)\r\n",
        "        \r\n",
        "        #trg_pad_mask = [batch size, 1, 1, trg len]\r\n",
        "        \r\n",
        "        trg_len = trg.shape[1]\r\n",
        "        \r\n",
        "        trg_sub_mask = torch.tril(torch.ones((trg_len, trg_len), device = device)).bool()\r\n",
        "        \r\n",
        "        #trg_sub_mask = [trg len, trg len]\r\n",
        "            \r\n",
        "        trg_mask = trg_pad_mask & trg_sub_mask\r\n",
        "        \r\n",
        "        #trg_mask = [batch size, 1, trg len, trg len]\r\n",
        "        \r\n",
        "        return trg_mask\r\n",
        "\r\n",
        "def train(model, iterator, optimizer, criterion, clip):\r\n",
        "    \r\n",
        "    model.train()\r\n",
        "    \r\n",
        "    n_totals = 0\r\n",
        "    print_losses = []\r\n",
        "    for i, batch in tqdm(enumerate(iterator), total=len(iterator)):\r\n",
        "        # print(batch)\r\n",
        "        loss = 0\r\n",
        "        src = batch.Input.permute(1, 0)\r\n",
        "        trg = batch.Output.permute(1, 0)\r\n",
        "        trg_mask = make_trg_mask(trg)\r\n",
        "        optimizer.zero_grad()\r\n",
        "        \r\n",
        "        output, _ = model(src, trg[:,:-1])\r\n",
        "                \r\n",
        "        #output = [batch size, trg len - 1, output dim]\r\n",
        "        #trg = [batch size, trg len]\r\n",
        "            \r\n",
        "        output_dim = output.shape[-1]\r\n",
        "            \r\n",
        "        output = output.contiguous().view(-1, output_dim)\r\n",
        "        trg = trg[:,1:].contiguous().view(-1)\r\n",
        "                \r\n",
        "        #output = [batch size * trg len - 1, output dim]\r\n",
        "        #trg = [batch size * trg len - 1]\r\n",
        "            \r\n",
        "        mask_loss, nTotal = criterion(output, trg, trg_mask)\r\n",
        "        \r\n",
        "        mask_loss.backward()\r\n",
        "        \r\n",
        "        torch.nn.utils.clip_grad_norm_(model.parameters(), clip)\r\n",
        "        \r\n",
        "        optimizer.step()\r\n",
        "        \r\n",
        "        print_losses.append(mask_loss.item() * nTotal)\r\n",
        "        n_totals += nTotal\r\n",
        "\r\n",
        "\r\n",
        "        \r\n",
        "    return sum(print_losses) / n_totals"
      ],
      "execution_count": 54,
      "outputs": []
    },
    {
      "cell_type": "code",
      "metadata": {
        "id": "zi3Ev8gaO79_"
      },
      "source": [
        "def evaluate(model, iterator, criterion):\r\n",
        "    \r\n",
        "    model.eval()\r\n",
        "    \r\n",
        "    n_totals = 0\r\n",
        "    print_losses = []\r\n",
        "    \r\n",
        "    with torch.no_grad():\r\n",
        "    \r\n",
        "        for i, batch in tqdm(enumerate(iterator), total=len(iterator)):\r\n",
        "\r\n",
        "            src = batch.Input.permute(1, 0)\r\n",
        "            trg = batch.Output.permute(1, 0)\r\n",
        "            trg_mask = make_trg_mask(trg)\r\n",
        "\r\n",
        "            output, _ = model(src, trg[:,:-1])\r\n",
        "            \r\n",
        "            #output = [batch size, trg len - 1, output dim]\r\n",
        "            #trg = [batch size, trg len]\r\n",
        "            \r\n",
        "            output_dim = output.shape[-1]\r\n",
        "            \r\n",
        "            output = output.contiguous().view(-1, output_dim)\r\n",
        "            trg = trg[:,1:].contiguous().view(-1)\r\n",
        "            \r\n",
        "            #output = [batch size * trg len - 1, output dim]\r\n",
        "            #trg = [batch size * trg len - 1]\r\n",
        "            \r\n",
        "            mask_loss, nTotal = criterion(output, trg, trg_mask)\r\n",
        "\r\n",
        "            print_losses.append(mask_loss.item() * nTotal)\r\n",
        "            n_totals += nTotal\r\n",
        "\r\n",
        "        \r\n",
        "    return sum(print_losses) / n_totals"
      ],
      "execution_count": 55,
      "outputs": []
    },
    {
      "cell_type": "code",
      "metadata": {
        "id": "JuB4JqQRO9Wg"
      },
      "source": [
        "def epoch_time(start_time, end_time):\r\n",
        "    elapsed_time = end_time - start_time\r\n",
        "    elapsed_mins = int(elapsed_time / 60)\r\n",
        "    elapsed_secs = int(elapsed_time - (elapsed_mins * 60))\r\n",
        "    return elapsed_mins, elapsed_secs"
      ],
      "execution_count": 56,
      "outputs": []
    },
    {
      "cell_type": "code",
      "metadata": {
        "colab": {
          "base_uri": "https://localhost:8080/"
        },
        "id": "aax76Ie4O_Cr",
        "outputId": "fbc1062f-f4d9-4ff4-887f-a365835c3de6"
      },
      "source": [
        "N_EPOCHS = 50\r\n",
        "CLIP = 1\r\n",
        "\r\n",
        "best_valid_loss = float('inf')\r\n",
        "\r\n",
        "for epoch in range(N_EPOCHS):\r\n",
        "    \r\n",
        "    start_time = time.time()\r\n",
        "    \r\n",
        "    train_example = []\r\n",
        "    val_example = []\r\n",
        "\r\n",
        "    for i in range(train_df.shape[0]):\r\n",
        "        try:\r\n",
        "            ex = data.Example.fromlist([train_df.question[i], train_df.solution[i]], fields)\r\n",
        "            train_example.append(ex)\r\n",
        "        except:\r\n",
        "            pass\r\n",
        "\r\n",
        "    for i in range(val_df.shape[0]):\r\n",
        "        try:\r\n",
        "            ex = data.Example.fromlist([val_df.question[i], val_df.solution[i]], fields)\r\n",
        "            val_example.append(ex)\r\n",
        "        except:\r\n",
        "            pass       \r\n",
        "\r\n",
        "    train_data = data.Dataset(train_example, fields)\r\n",
        "    valid_data =  data.Dataset(val_example, fields)\r\n",
        "\r\n",
        "    BATCH_SIZE = 16\r\n",
        "    train_iterator, valid_iterator = BucketIterator.splits((train_data, valid_data), batch_size = BATCH_SIZE, \r\n",
        "                                                                sort_key = lambda x: len(x.Input),\r\n",
        "                                                                sort_within_batch=True, device = device)\r\n",
        "\r\n",
        "    train_loss = train(model, train_iterator, optimizer, criterion, CLIP)\r\n",
        "    valid_loss = evaluate(model, valid_iterator, criterion)\r\n",
        "    \r\n",
        "    end_time = time.time()\r\n",
        "    \r\n",
        "    epoch_mins, epoch_secs = epoch_time(start_time, end_time)\r\n",
        "    \r\n",
        "    if valid_loss < best_valid_loss:\r\n",
        "        best_valid_loss = valid_loss\r\n",
        "        torch.save(model.state_dict(), '/content/drive/MyDrive/TheSchoolOfAI/EndCapstone/model.pt')\r\n",
        "    \r\n",
        "    print(f'Epoch: {epoch+1:02} | Time: {epoch_mins}m {epoch_secs}s')\r\n",
        "    print(f'\\tTrain Loss: {train_loss:.3f} | Train PPL: {math.exp(train_loss):7.3f}')\r\n",
        "    print(f'\\t Val. Loss: {valid_loss:.3f} |  Val. PPL: {math.exp(valid_loss):7.3f}')"
      ],
      "execution_count": 57,
      "outputs": [
        {
          "output_type": "stream",
          "text": [
            "100%|██████████| 222/222 [00:16<00:00, 13.54it/s]\n",
            "100%|██████████| 8/8 [00:00<00:00, 67.25it/s]\n"
          ],
          "name": "stderr"
        },
        {
          "output_type": "stream",
          "text": [
            "Epoch: 01 | Time: 0m 18s\n",
            "\tTrain Loss: 5.012 | Train PPL: 150.185\n",
            "\t Val. Loss: 4.344 |  Val. PPL:  76.984\n"
          ],
          "name": "stdout"
        },
        {
          "output_type": "stream",
          "text": [
            "100%|██████████| 222/222 [00:16<00:00, 13.60it/s]\n",
            "100%|██████████| 8/8 [00:00<00:00, 59.14it/s]\n"
          ],
          "name": "stderr"
        },
        {
          "output_type": "stream",
          "text": [
            "Epoch: 02 | Time: 0m 17s\n",
            "\tTrain Loss: 4.188 | Train PPL:  65.858\n",
            "\t Val. Loss: 4.118 |  Val. PPL:  61.412\n"
          ],
          "name": "stdout"
        },
        {
          "output_type": "stream",
          "text": [
            "100%|██████████| 222/222 [00:16<00:00, 13.68it/s]\n",
            "100%|██████████| 8/8 [00:00<00:00, 68.90it/s]\n"
          ],
          "name": "stderr"
        },
        {
          "output_type": "stream",
          "text": [
            "Epoch: 03 | Time: 0m 17s\n",
            "\tTrain Loss: 3.961 | Train PPL:  52.523\n",
            "\t Val. Loss: 3.961 |  Val. PPL:  52.495\n"
          ],
          "name": "stdout"
        },
        {
          "output_type": "stream",
          "text": [
            "100%|██████████| 222/222 [00:16<00:00, 13.70it/s]\n",
            "100%|██████████| 8/8 [00:00<00:00, 68.04it/s]\n"
          ],
          "name": "stderr"
        },
        {
          "output_type": "stream",
          "text": [
            "Epoch: 04 | Time: 0m 17s\n",
            "\tTrain Loss: 3.807 | Train PPL:  45.018\n",
            "\t Val. Loss: 3.890 |  Val. PPL:  48.890\n"
          ],
          "name": "stdout"
        },
        {
          "output_type": "stream",
          "text": [
            "100%|██████████| 222/222 [00:16<00:00, 13.70it/s]\n",
            "100%|██████████| 8/8 [00:00<00:00, 64.11it/s]\n"
          ],
          "name": "stderr"
        },
        {
          "output_type": "stream",
          "text": [
            "Epoch: 05 | Time: 0m 17s\n",
            "\tTrain Loss: 3.688 | Train PPL:  39.957\n",
            "\t Val. Loss: 3.808 |  Val. PPL:  45.056\n"
          ],
          "name": "stdout"
        },
        {
          "output_type": "stream",
          "text": [
            "100%|██████████| 222/222 [00:16<00:00, 13.57it/s]\n",
            "100%|██████████| 8/8 [00:00<00:00, 64.50it/s]\n"
          ],
          "name": "stderr"
        },
        {
          "output_type": "stream",
          "text": [
            "Epoch: 06 | Time: 0m 17s\n",
            "\tTrain Loss: 3.587 | Train PPL:  36.114\n",
            "\t Val. Loss: 3.764 |  Val. PPL:  43.119\n"
          ],
          "name": "stdout"
        },
        {
          "output_type": "stream",
          "text": [
            "100%|██████████| 222/222 [00:16<00:00, 13.69it/s]\n",
            "100%|██████████| 8/8 [00:00<00:00, 68.72it/s]\n"
          ],
          "name": "stderr"
        },
        {
          "output_type": "stream",
          "text": [
            "Epoch: 07 | Time: 0m 17s\n",
            "\tTrain Loss: 3.488 | Train PPL:  32.709\n",
            "\t Val. Loss: 3.695 |  Val. PPL:  40.227\n"
          ],
          "name": "stdout"
        },
        {
          "output_type": "stream",
          "text": [
            "100%|██████████| 222/222 [00:16<00:00, 13.73it/s]\n",
            "100%|██████████| 8/8 [00:00<00:00, 67.64it/s]\n"
          ],
          "name": "stderr"
        },
        {
          "output_type": "stream",
          "text": [
            "Epoch: 08 | Time: 0m 17s\n",
            "\tTrain Loss: 3.410 | Train PPL:  30.255\n",
            "\t Val. Loss: 3.669 |  Val. PPL:  39.203\n"
          ],
          "name": "stdout"
        },
        {
          "output_type": "stream",
          "text": [
            "100%|██████████| 222/222 [00:16<00:00, 13.67it/s]\n",
            "100%|██████████| 8/8 [00:00<00:00, 64.55it/s]\n"
          ],
          "name": "stderr"
        },
        {
          "output_type": "stream",
          "text": [
            "Epoch: 09 | Time: 0m 17s\n",
            "\tTrain Loss: 3.336 | Train PPL:  28.098\n",
            "\t Val. Loss: 3.670 |  Val. PPL:  39.247\n"
          ],
          "name": "stdout"
        },
        {
          "output_type": "stream",
          "text": [
            "100%|██████████| 222/222 [00:16<00:00, 13.74it/s]\n",
            "100%|██████████| 8/8 [00:00<00:00, 66.30it/s]\n"
          ],
          "name": "stderr"
        },
        {
          "output_type": "stream",
          "text": [
            "Epoch: 10 | Time: 0m 17s\n",
            "\tTrain Loss: 3.271 | Train PPL:  26.329\n",
            "\t Val. Loss: 3.613 |  Val. PPL:  37.059\n"
          ],
          "name": "stdout"
        },
        {
          "output_type": "stream",
          "text": [
            "100%|██████████| 222/222 [00:16<00:00, 13.71it/s]\n",
            "100%|██████████| 8/8 [00:00<00:00, 66.84it/s]\n"
          ],
          "name": "stderr"
        },
        {
          "output_type": "stream",
          "text": [
            "Epoch: 11 | Time: 0m 17s\n",
            "\tTrain Loss: 3.212 | Train PPL:  24.824\n",
            "\t Val. Loss: 3.581 |  Val. PPL:  35.902\n"
          ],
          "name": "stdout"
        },
        {
          "output_type": "stream",
          "text": [
            "100%|██████████| 222/222 [00:16<00:00, 13.63it/s]\n",
            "100%|██████████| 8/8 [00:00<00:00, 68.20it/s]\n"
          ],
          "name": "stderr"
        },
        {
          "output_type": "stream",
          "text": [
            "Epoch: 12 | Time: 0m 17s\n",
            "\tTrain Loss: 3.169 | Train PPL:  23.775\n",
            "\t Val. Loss: 3.572 |  Val. PPL:  35.576\n"
          ],
          "name": "stdout"
        },
        {
          "output_type": "stream",
          "text": [
            "100%|██████████| 222/222 [00:16<00:00, 13.66it/s]\n",
            "100%|██████████| 8/8 [00:00<00:00, 66.91it/s]\n"
          ],
          "name": "stderr"
        },
        {
          "output_type": "stream",
          "text": [
            "Epoch: 13 | Time: 0m 17s\n",
            "\tTrain Loss: 3.115 | Train PPL:  22.523\n",
            "\t Val. Loss: 3.528 |  Val. PPL:  34.068\n"
          ],
          "name": "stdout"
        },
        {
          "output_type": "stream",
          "text": [
            "100%|██████████| 222/222 [00:16<00:00, 13.56it/s]\n",
            "100%|██████████| 8/8 [00:00<00:00, 66.85it/s]\n"
          ],
          "name": "stderr"
        },
        {
          "output_type": "stream",
          "text": [
            "Epoch: 14 | Time: 0m 17s\n",
            "\tTrain Loss: 3.072 | Train PPL:  21.593\n",
            "\t Val. Loss: 3.586 |  Val. PPL:  36.076\n"
          ],
          "name": "stdout"
        },
        {
          "output_type": "stream",
          "text": [
            "100%|██████████| 222/222 [00:16<00:00, 13.83it/s]\n",
            "100%|██████████| 8/8 [00:00<00:00, 69.80it/s]\n"
          ],
          "name": "stderr"
        },
        {
          "output_type": "stream",
          "text": [
            "Epoch: 15 | Time: 0m 17s\n",
            "\tTrain Loss: 3.039 | Train PPL:  20.894\n",
            "\t Val. Loss: 3.520 |  Val. PPL:  33.800\n"
          ],
          "name": "stdout"
        },
        {
          "output_type": "stream",
          "text": [
            "100%|██████████| 222/222 [00:16<00:00, 13.71it/s]\n",
            "100%|██████████| 8/8 [00:00<00:00, 65.89it/s]\n"
          ],
          "name": "stderr"
        },
        {
          "output_type": "stream",
          "text": [
            "Epoch: 16 | Time: 0m 17s\n",
            "\tTrain Loss: 3.005 | Train PPL:  20.185\n",
            "\t Val. Loss: 3.521 |  Val. PPL:  33.818\n"
          ],
          "name": "stdout"
        },
        {
          "output_type": "stream",
          "text": [
            "100%|██████████| 222/222 [00:16<00:00, 13.72it/s]\n",
            "100%|██████████| 8/8 [00:00<00:00, 66.03it/s]\n"
          ],
          "name": "stderr"
        },
        {
          "output_type": "stream",
          "text": [
            "Epoch: 17 | Time: 0m 17s\n",
            "\tTrain Loss: 2.980 | Train PPL:  19.690\n",
            "\t Val. Loss: 3.504 |  Val. PPL:  33.251\n"
          ],
          "name": "stdout"
        },
        {
          "output_type": "stream",
          "text": [
            "100%|██████████| 222/222 [00:16<00:00, 13.73it/s]\n",
            "100%|██████████| 8/8 [00:00<00:00, 65.62it/s]\n"
          ],
          "name": "stderr"
        },
        {
          "output_type": "stream",
          "text": [
            "Epoch: 18 | Time: 0m 17s\n",
            "\tTrain Loss: 2.945 | Train PPL:  19.013\n",
            "\t Val. Loss: 3.502 |  Val. PPL:  33.174\n"
          ],
          "name": "stdout"
        },
        {
          "output_type": "stream",
          "text": [
            "100%|██████████| 222/222 [00:16<00:00, 13.66it/s]\n",
            "100%|██████████| 8/8 [00:00<00:00, 64.13it/s]\n"
          ],
          "name": "stderr"
        },
        {
          "output_type": "stream",
          "text": [
            "Epoch: 19 | Time: 0m 17s\n",
            "\tTrain Loss: 2.921 | Train PPL:  18.552\n",
            "\t Val. Loss: 3.497 |  Val. PPL:  33.005\n"
          ],
          "name": "stdout"
        },
        {
          "output_type": "stream",
          "text": [
            "100%|██████████| 222/222 [00:16<00:00, 13.66it/s]\n",
            "100%|██████████| 8/8 [00:00<00:00, 66.15it/s]\n"
          ],
          "name": "stderr"
        },
        {
          "output_type": "stream",
          "text": [
            "Epoch: 20 | Time: 0m 17s\n",
            "\tTrain Loss: 2.902 | Train PPL:  18.206\n",
            "\t Val. Loss: 3.496 |  Val. PPL:  32.995\n"
          ],
          "name": "stdout"
        },
        {
          "output_type": "stream",
          "text": [
            "100%|██████████| 222/222 [00:16<00:00, 13.71it/s]\n",
            "100%|██████████| 8/8 [00:00<00:00, 65.77it/s]\n"
          ],
          "name": "stderr"
        },
        {
          "output_type": "stream",
          "text": [
            "Epoch: 21 | Time: 0m 17s\n",
            "\tTrain Loss: 2.882 | Train PPL:  17.852\n",
            "\t Val. Loss: 3.463 |  Val. PPL:  31.915\n"
          ],
          "name": "stdout"
        },
        {
          "output_type": "stream",
          "text": [
            "100%|██████████| 222/222 [00:16<00:00, 13.64it/s]\n",
            "100%|██████████| 8/8 [00:00<00:00, 69.05it/s]\n"
          ],
          "name": "stderr"
        },
        {
          "output_type": "stream",
          "text": [
            "Epoch: 22 | Time: 0m 17s\n",
            "\tTrain Loss: 2.857 | Train PPL:  17.403\n",
            "\t Val. Loss: 3.466 |  Val. PPL:  32.022\n"
          ],
          "name": "stdout"
        },
        {
          "output_type": "stream",
          "text": [
            "100%|██████████| 222/222 [00:15<00:00, 13.96it/s]\n",
            "100%|██████████| 8/8 [00:00<00:00, 69.14it/s]\n"
          ],
          "name": "stderr"
        },
        {
          "output_type": "stream",
          "text": [
            "Epoch: 23 | Time: 0m 17s\n",
            "\tTrain Loss: 2.844 | Train PPL:  17.193\n",
            "\t Val. Loss: 3.453 |  Val. PPL:  31.589\n"
          ],
          "name": "stdout"
        },
        {
          "output_type": "stream",
          "text": [
            "100%|██████████| 222/222 [00:16<00:00, 13.78it/s]\n",
            "100%|██████████| 8/8 [00:00<00:00, 68.60it/s]\n"
          ],
          "name": "stderr"
        },
        {
          "output_type": "stream",
          "text": [
            "Epoch: 24 | Time: 0m 17s\n",
            "\tTrain Loss: 2.828 | Train PPL:  16.905\n",
            "\t Val. Loss: 3.471 |  Val. PPL:  32.178\n"
          ],
          "name": "stdout"
        },
        {
          "output_type": "stream",
          "text": [
            "100%|██████████| 222/222 [00:16<00:00, 13.84it/s]\n",
            "100%|██████████| 8/8 [00:00<00:00, 69.64it/s]\n"
          ],
          "name": "stderr"
        },
        {
          "output_type": "stream",
          "text": [
            "Epoch: 25 | Time: 0m 17s\n",
            "\tTrain Loss: 2.803 | Train PPL:  16.501\n",
            "\t Val. Loss: 3.462 |  Val. PPL:  31.876\n"
          ],
          "name": "stdout"
        },
        {
          "output_type": "stream",
          "text": [
            "100%|██████████| 222/222 [00:16<00:00, 13.87it/s]\n",
            "100%|██████████| 8/8 [00:00<00:00, 69.04it/s]\n"
          ],
          "name": "stderr"
        },
        {
          "output_type": "stream",
          "text": [
            "Epoch: 26 | Time: 0m 17s\n",
            "\tTrain Loss: 2.799 | Train PPL:  16.422\n",
            "\t Val. Loss: 3.473 |  Val. PPL:  32.229\n"
          ],
          "name": "stdout"
        },
        {
          "output_type": "stream",
          "text": [
            "100%|██████████| 222/222 [00:16<00:00, 13.80it/s]\n",
            "100%|██████████| 8/8 [00:00<00:00, 67.66it/s]\n"
          ],
          "name": "stderr"
        },
        {
          "output_type": "stream",
          "text": [
            "Epoch: 27 | Time: 0m 17s\n",
            "\tTrain Loss: 2.785 | Train PPL:  16.194\n",
            "\t Val. Loss: 3.443 |  Val. PPL:  31.295\n"
          ],
          "name": "stdout"
        },
        {
          "output_type": "stream",
          "text": [
            "100%|██████████| 222/222 [00:16<00:00, 13.65it/s]\n",
            "100%|██████████| 8/8 [00:00<00:00, 66.72it/s]\n"
          ],
          "name": "stderr"
        },
        {
          "output_type": "stream",
          "text": [
            "Epoch: 28 | Time: 0m 17s\n",
            "\tTrain Loss: 2.768 | Train PPL:  15.919\n",
            "\t Val. Loss: 3.446 |  Val. PPL:  31.361\n"
          ],
          "name": "stdout"
        },
        {
          "output_type": "stream",
          "text": [
            "100%|██████████| 222/222 [00:16<00:00, 13.75it/s]\n",
            "100%|██████████| 8/8 [00:00<00:00, 67.83it/s]\n"
          ],
          "name": "stderr"
        },
        {
          "output_type": "stream",
          "text": [
            "Epoch: 29 | Time: 0m 17s\n",
            "\tTrain Loss: 2.760 | Train PPL:  15.792\n",
            "\t Val. Loss: 3.430 |  Val. PPL:  30.869\n"
          ],
          "name": "stdout"
        },
        {
          "output_type": "stream",
          "text": [
            "100%|██████████| 222/222 [00:16<00:00, 13.84it/s]\n",
            "100%|██████████| 8/8 [00:00<00:00, 66.02it/s]\n"
          ],
          "name": "stderr"
        },
        {
          "output_type": "stream",
          "text": [
            "Epoch: 30 | Time: 0m 17s\n",
            "\tTrain Loss: 2.749 | Train PPL:  15.632\n",
            "\t Val. Loss: 3.469 |  Val. PPL:  32.090\n"
          ],
          "name": "stdout"
        },
        {
          "output_type": "stream",
          "text": [
            "100%|██████████| 222/222 [00:16<00:00, 13.80it/s]\n",
            "100%|██████████| 8/8 [00:00<00:00, 65.22it/s]\n"
          ],
          "name": "stderr"
        },
        {
          "output_type": "stream",
          "text": [
            "Epoch: 31 | Time: 0m 17s\n",
            "\tTrain Loss: 2.728 | Train PPL:  15.304\n",
            "\t Val. Loss: 3.427 |  Val. PPL:  30.787\n"
          ],
          "name": "stdout"
        },
        {
          "output_type": "stream",
          "text": [
            "100%|██████████| 222/222 [00:16<00:00, 13.66it/s]\n",
            "100%|██████████| 8/8 [00:00<00:00, 63.28it/s]\n"
          ],
          "name": "stderr"
        },
        {
          "output_type": "stream",
          "text": [
            "Epoch: 32 | Time: 0m 17s\n",
            "\tTrain Loss: 2.729 | Train PPL:  15.321\n",
            "\t Val. Loss: 3.458 |  Val. PPL:  31.752\n"
          ],
          "name": "stdout"
        },
        {
          "output_type": "stream",
          "text": [
            "100%|██████████| 222/222 [00:16<00:00, 13.67it/s]\n",
            "100%|██████████| 8/8 [00:00<00:00, 68.51it/s]\n"
          ],
          "name": "stderr"
        },
        {
          "output_type": "stream",
          "text": [
            "Epoch: 33 | Time: 0m 17s\n",
            "\tTrain Loss: 2.716 | Train PPL:  15.122\n",
            "\t Val. Loss: 3.428 |  Val. PPL:  30.816\n"
          ],
          "name": "stdout"
        },
        {
          "output_type": "stream",
          "text": [
            "100%|██████████| 222/222 [00:16<00:00, 13.78it/s]\n",
            "100%|██████████| 8/8 [00:00<00:00, 63.22it/s]\n"
          ],
          "name": "stderr"
        },
        {
          "output_type": "stream",
          "text": [
            "Epoch: 34 | Time: 0m 17s\n",
            "\tTrain Loss: 2.709 | Train PPL:  15.018\n",
            "\t Val. Loss: 3.448 |  Val. PPL:  31.431\n"
          ],
          "name": "stdout"
        },
        {
          "output_type": "stream",
          "text": [
            "100%|██████████| 222/222 [00:16<00:00, 13.86it/s]\n",
            "100%|██████████| 8/8 [00:00<00:00, 66.97it/s]\n"
          ],
          "name": "stderr"
        },
        {
          "output_type": "stream",
          "text": [
            "Epoch: 35 | Time: 0m 17s\n",
            "\tTrain Loss: 2.692 | Train PPL:  14.767\n",
            "\t Val. Loss: 3.466 |  Val. PPL:  32.016\n"
          ],
          "name": "stdout"
        },
        {
          "output_type": "stream",
          "text": [
            "100%|██████████| 222/222 [00:16<00:00, 13.78it/s]\n",
            "100%|██████████| 8/8 [00:00<00:00, 68.74it/s]\n"
          ],
          "name": "stderr"
        },
        {
          "output_type": "stream",
          "text": [
            "Epoch: 36 | Time: 0m 17s\n",
            "\tTrain Loss: 2.682 | Train PPL:  14.616\n",
            "\t Val. Loss: 3.432 |  Val. PPL:  30.945\n"
          ],
          "name": "stdout"
        },
        {
          "output_type": "stream",
          "text": [
            "100%|██████████| 222/222 [00:15<00:00, 13.93it/s]\n",
            "100%|██████████| 8/8 [00:00<00:00, 64.81it/s]\n"
          ],
          "name": "stderr"
        },
        {
          "output_type": "stream",
          "text": [
            "Epoch: 37 | Time: 0m 17s\n",
            "\tTrain Loss: 2.687 | Train PPL:  14.693\n",
            "\t Val. Loss: 3.431 |  Val. PPL:  30.916\n"
          ],
          "name": "stdout"
        },
        {
          "output_type": "stream",
          "text": [
            "100%|██████████| 222/222 [00:16<00:00, 13.87it/s]\n",
            "100%|██████████| 8/8 [00:00<00:00, 66.36it/s]\n"
          ],
          "name": "stderr"
        },
        {
          "output_type": "stream",
          "text": [
            "Epoch: 38 | Time: 0m 17s\n",
            "\tTrain Loss: 2.671 | Train PPL:  14.454\n",
            "\t Val. Loss: 3.443 |  Val. PPL:  31.286\n"
          ],
          "name": "stdout"
        },
        {
          "output_type": "stream",
          "text": [
            "100%|██████████| 222/222 [00:16<00:00, 13.68it/s]\n",
            "100%|██████████| 8/8 [00:00<00:00, 69.40it/s]\n"
          ],
          "name": "stderr"
        },
        {
          "output_type": "stream",
          "text": [
            "Epoch: 39 | Time: 0m 17s\n",
            "\tTrain Loss: 2.663 | Train PPL:  14.342\n",
            "\t Val. Loss: 3.425 |  Val. PPL:  30.710\n"
          ],
          "name": "stdout"
        },
        {
          "output_type": "stream",
          "text": [
            "100%|██████████| 222/222 [00:16<00:00, 13.62it/s]\n",
            "100%|██████████| 8/8 [00:00<00:00, 67.79it/s]\n"
          ],
          "name": "stderr"
        },
        {
          "output_type": "stream",
          "text": [
            "Epoch: 40 | Time: 0m 17s\n",
            "\tTrain Loss: 2.660 | Train PPL:  14.300\n",
            "\t Val. Loss: 3.396 |  Val. PPL:  29.839\n"
          ],
          "name": "stdout"
        },
        {
          "output_type": "stream",
          "text": [
            "100%|██████████| 222/222 [00:16<00:00, 13.69it/s]\n",
            "100%|██████████| 8/8 [00:00<00:00, 68.86it/s]\n"
          ],
          "name": "stderr"
        },
        {
          "output_type": "stream",
          "text": [
            "Epoch: 41 | Time: 0m 17s\n",
            "\tTrain Loss: 2.653 | Train PPL:  14.202\n",
            "\t Val. Loss: 3.440 |  Val. PPL:  31.200\n"
          ],
          "name": "stdout"
        },
        {
          "output_type": "stream",
          "text": [
            "100%|██████████| 222/222 [00:16<00:00, 13.73it/s]\n",
            "100%|██████████| 8/8 [00:00<00:00, 66.56it/s]\n"
          ],
          "name": "stderr"
        },
        {
          "output_type": "stream",
          "text": [
            "Epoch: 42 | Time: 0m 17s\n",
            "\tTrain Loss: 2.644 | Train PPL:  14.067\n",
            "\t Val. Loss: 3.415 |  Val. PPL:  30.403\n"
          ],
          "name": "stdout"
        },
        {
          "output_type": "stream",
          "text": [
            "100%|██████████| 222/222 [00:16<00:00, 13.50it/s]\n",
            "100%|██████████| 8/8 [00:00<00:00, 59.68it/s]\n"
          ],
          "name": "stderr"
        },
        {
          "output_type": "stream",
          "text": [
            "Epoch: 43 | Time: 0m 17s\n",
            "\tTrain Loss: 2.637 | Train PPL:  13.966\n",
            "\t Val. Loss: 3.426 |  Val. PPL:  30.745\n"
          ],
          "name": "stdout"
        },
        {
          "output_type": "stream",
          "text": [
            "100%|██████████| 222/222 [00:16<00:00, 13.54it/s]\n",
            "100%|██████████| 8/8 [00:00<00:00, 66.31it/s]\n"
          ],
          "name": "stderr"
        },
        {
          "output_type": "stream",
          "text": [
            "Epoch: 44 | Time: 0m 17s\n",
            "\tTrain Loss: 2.635 | Train PPL:  13.943\n",
            "\t Val. Loss: 3.432 |  Val. PPL:  30.950\n"
          ],
          "name": "stdout"
        },
        {
          "output_type": "stream",
          "text": [
            "100%|██████████| 222/222 [00:16<00:00, 13.64it/s]\n",
            "100%|██████████| 8/8 [00:00<00:00, 64.76it/s]\n"
          ],
          "name": "stderr"
        },
        {
          "output_type": "stream",
          "text": [
            "Epoch: 45 | Time: 0m 17s\n",
            "\tTrain Loss: 2.623 | Train PPL:  13.772\n",
            "\t Val. Loss: 3.437 |  Val. PPL:  31.104\n"
          ],
          "name": "stdout"
        },
        {
          "output_type": "stream",
          "text": [
            "100%|██████████| 222/222 [00:16<00:00, 13.72it/s]\n",
            "100%|██████████| 8/8 [00:00<00:00, 62.39it/s]\n"
          ],
          "name": "stderr"
        },
        {
          "output_type": "stream",
          "text": [
            "Epoch: 46 | Time: 0m 17s\n",
            "\tTrain Loss: 2.624 | Train PPL:  13.795\n",
            "\t Val. Loss: 3.416 |  Val. PPL:  30.458\n"
          ],
          "name": "stdout"
        },
        {
          "output_type": "stream",
          "text": [
            "100%|██████████| 222/222 [00:16<00:00, 13.70it/s]\n",
            "100%|██████████| 8/8 [00:00<00:00, 66.47it/s]\n"
          ],
          "name": "stderr"
        },
        {
          "output_type": "stream",
          "text": [
            "Epoch: 47 | Time: 0m 17s\n",
            "\tTrain Loss: 2.617 | Train PPL:  13.697\n",
            "\t Val. Loss: 3.461 |  Val. PPL:  31.863\n"
          ],
          "name": "stdout"
        },
        {
          "output_type": "stream",
          "text": [
            "100%|██████████| 222/222 [00:16<00:00, 13.66it/s]\n",
            "100%|██████████| 8/8 [00:00<00:00, 67.28it/s]\n"
          ],
          "name": "stderr"
        },
        {
          "output_type": "stream",
          "text": [
            "Epoch: 48 | Time: 0m 17s\n",
            "\tTrain Loss: 2.614 | Train PPL:  13.652\n",
            "\t Val. Loss: 3.418 |  Val. PPL:  30.502\n"
          ],
          "name": "stdout"
        },
        {
          "output_type": "stream",
          "text": [
            "100%|██████████| 222/222 [00:16<00:00, 13.51it/s]\n",
            "100%|██████████| 8/8 [00:00<00:00, 67.54it/s]\n"
          ],
          "name": "stderr"
        },
        {
          "output_type": "stream",
          "text": [
            "Epoch: 49 | Time: 0m 17s\n",
            "\tTrain Loss: 2.604 | Train PPL:  13.520\n",
            "\t Val. Loss: 3.393 |  Val. PPL:  29.749\n"
          ],
          "name": "stdout"
        },
        {
          "output_type": "stream",
          "text": [
            "100%|██████████| 222/222 [00:16<00:00, 13.54it/s]\n",
            "100%|██████████| 8/8 [00:00<00:00, 67.63it/s]"
          ],
          "name": "stderr"
        },
        {
          "output_type": "stream",
          "text": [
            "Epoch: 50 | Time: 0m 17s\n",
            "\tTrain Loss: 2.606 | Train PPL:  13.545\n",
            "\t Val. Loss: 3.458 |  Val. PPL:  31.756\n"
          ],
          "name": "stdout"
        },
        {
          "output_type": "stream",
          "text": [
            "\n"
          ],
          "name": "stderr"
        }
      ]
    },
    {
      "cell_type": "code",
      "metadata": {
        "id": "MMKkB13yPeJ7"
      },
      "source": [
        "SRC = Input\r\n",
        "TRG = Output"
      ],
      "execution_count": 58,
      "outputs": []
    },
    {
      "cell_type": "code",
      "metadata": {
        "colab": {
          "base_uri": "https://localhost:8080/"
        },
        "id": "f3_aq7QTPBFc",
        "outputId": "e8bdc0e6-cd7e-4d5e-bb92-1029c59ef9d6"
      },
      "source": [
        "model.load_state_dict(torch.load('/content/drive/MyDrive/TheSchoolOfAI/EndCapstone/model.pt'))"
      ],
      "execution_count": 59,
      "outputs": [
        {
          "output_type": "execute_result",
          "data": {
            "text/plain": [
              "<All keys matched successfully>"
            ]
          },
          "metadata": {
            "tags": []
          },
          "execution_count": 59
        }
      ]
    },
    {
      "cell_type": "code",
      "metadata": {
        "id": "ieIjql9uPKH1"
      },
      "source": [
        "def translate_sentence(sentence, src_field, trg_field, model, device, max_len = 50000):\r\n",
        "    \r\n",
        "    model.eval()\r\n",
        "        \r\n",
        "    if isinstance(sentence, str):\r\n",
        "        nlp = spacy.load('en')\r\n",
        "        tokens = [token.text.lower() for token in nlp(sentence)]\r\n",
        "    else:\r\n",
        "        tokens = [token.lower() for token in sentence]\r\n",
        "\r\n",
        "    tokens = [src_field.init_token] + tokens + [src_field.eos_token]\r\n",
        "        \r\n",
        "    src_indexes = [src_field.vocab.stoi[token] for token in tokens]\r\n",
        "\r\n",
        "    src_tensor = torch.LongTensor(src_indexes).unsqueeze(0).to(device)\r\n",
        "    \r\n",
        "    src_mask = model.make_src_mask(src_tensor)\r\n",
        "    \r\n",
        "    with torch.no_grad():\r\n",
        "        enc_src = model.encoder(src_tensor, src_mask)\r\n",
        "\r\n",
        "    trg_indexes = [trg_field.vocab.stoi[trg_field.init_token]]\r\n",
        "\r\n",
        "    for i in range(max_len):\r\n",
        "\r\n",
        "        trg_tensor = torch.LongTensor(trg_indexes).unsqueeze(0).to(device)\r\n",
        "\r\n",
        "        trg_mask = model.make_trg_mask(trg_tensor)\r\n",
        "        \r\n",
        "        with torch.no_grad():\r\n",
        "            output, attention = model.decoder(trg_tensor, enc_src, trg_mask, src_mask)\r\n",
        "        \r\n",
        "        pred_token = output.argmax(2)[:,-1].item()\r\n",
        "        \r\n",
        "        trg_indexes.append(pred_token)\r\n",
        "\r\n",
        "        if pred_token == trg_field.vocab.stoi[trg_field.eos_token]:\r\n",
        "            break\r\n",
        "    \r\n",
        "    trg_tokens = [trg_field.vocab.itos[i] for i in trg_indexes]\r\n",
        "    \r\n",
        "    return trg_tokens[1:], attention"
      ],
      "execution_count": 60,
      "outputs": []
    },
    {
      "cell_type": "markdown",
      "metadata": {
        "id": "1mlHzigPJpLT"
      },
      "source": [
        "## Displaying Attention"
      ]
    },
    {
      "cell_type": "code",
      "metadata": {
        "id": "WTBipndfPOlX"
      },
      "source": [
        "def display_attention(sentence, translation, attention, n_heads = 8, n_rows = 4, n_cols = 2):\r\n",
        "    \r\n",
        "    assert n_rows * n_cols == n_heads\r\n",
        "    \r\n",
        "    fig = plt.figure(figsize=(30,50))\r\n",
        "    \r\n",
        "    for i in range(n_heads):\r\n",
        "        \r\n",
        "        ax = fig.add_subplot(n_rows, n_cols, i+1)\r\n",
        "        \r\n",
        "        _attention = attention.squeeze(0)[i].cpu().detach().numpy()\r\n",
        "\r\n",
        "        cax = ax.matshow(_attention, cmap='bone')\r\n",
        "\r\n",
        "        ax.tick_params(labelsize=12)\r\n",
        "        ax.set_xticklabels(['']+['<sos>']+[t.lower() for t in sentence]+['<eos>'], \r\n",
        "                           rotation=45)\r\n",
        "        ax.set_yticklabels(['']+translation)\r\n",
        "\r\n",
        "        ax.xaxis.set_major_locator(ticker.MultipleLocator(1))\r\n",
        "        ax.yaxis.set_major_locator(ticker.MultipleLocator(1))\r\n",
        "\r\n",
        "    plt.show()"
      ],
      "execution_count": 61,
      "outputs": []
    },
    {
      "cell_type": "code",
      "metadata": {
        "colab": {
          "base_uri": "https://localhost:8080/"
        },
        "id": "sIyQeFx-dMlK",
        "outputId": "a8b2ce67-54a4-4298-f00b-4a6bcdfae999"
      },
      "source": [
        "src = \"write a function that adds two numbers\"\r\n",
        "src=src.split(\" \")\r\n",
        "translation, attention = translate_sentence(src, SRC, TRG, model, device)\r\n",
        "\r\n",
        "print(f'predicted trg sequence: ')\r\n",
        "print(translation)\r\n",
        "print(\"code: \\n\", untokenize(translation[:-1]).decode('utf-8'))"
      ],
      "execution_count": 62,
      "outputs": [
        {
          "output_type": "stream",
          "text": [
            "predicted trg sequence: \n",
            "[(57, 'utf-8'), (1, 'def'), (1, 'add'), (53, '('), (1, 'x'), (53, ','), (1, 'y'), (53, ')'), (53, ':'), (4, '\\n'), (5, '    '), (1, 'return'), (1, 'x'), (53, '+'), (1, 'y'), (4, ''), (6, ''), (0, ''), '<eos>']\n",
            "code: \n",
            " def add (x ,y ):\n",
            "    return x +y \n"
          ],
          "name": "stdout"
        }
      ]
    },
    {
      "cell_type": "code",
      "metadata": {
        "colab": {
          "base_uri": "https://localhost:8080/",
          "height": 1000
        },
        "id": "CHWqhmvtPTJv",
        "outputId": "71e4428d-392a-4532-ae56-257747c55279"
      },
      "source": [
        "display_attention(src, translation, attention)\r\n"
      ],
      "execution_count": 63,
      "outputs": [
        {
          "output_type": "display_data",
          "data": {
            "image/png": "[encoded data removed]",
            "text/plain": [
              "<Figure size 2160x3600 with 8 Axes>"
            ]
          },
          "metadata": {
            "tags": [],
            "needs_background": "light"
          }
        }
      ]
    },
    {
      "cell_type": "markdown",
      "metadata": {
        "id": "xhIC2mgfv37B"
      },
      "source": [
        "# Sample Outputs for English to Python translation."
      ]
    },
    {
      "cell_type": "markdown",
      "metadata": {
        "id": "-lwaEkWxK8DA"
      },
      "source": [
        "Lets load our pretrained model to perform inference on a set of examples"
      ]
    },
    {
      "cell_type": "code",
      "metadata": {
        "colab": {
          "base_uri": "https://localhost:8080/"
        },
        "id": "h_d2MUwHK62D",
        "outputId": "1fedce1e-7b0b-4bdd-e320-2c04f46c362c"
      },
      "source": [
        "model.load_state_dict(torch.load('/content/drive/MyDrive/TheSchoolOfAI/EndCapstone/model_ep_0_pt_2.pt'))"
      ],
      "execution_count": 64,
      "outputs": [
        {
          "output_type": "execute_result",
          "data": {
            "text/plain": [
              "<All keys matched successfully>"
            ]
          },
          "metadata": {
            "tags": []
          },
          "execution_count": 64
        }
      ]
    },
    {
      "cell_type": "markdown",
      "metadata": {
        "id": "vveLENmdLEE4"
      },
      "source": [
        "Function that translates an English src string to python code."
      ]
    },
    {
      "cell_type": "code",
      "metadata": {
        "id": "hiYFFxnzj6Mn"
      },
      "source": [
        "def eng_to_python(src):\r\n",
        "  src=src.split(\" \")\r\n",
        "  translation, attention = translate_sentence(src, SRC, TRG, model, device)\r\n",
        "\r\n",
        "  print(f'predicted trg: \\n')\r\n",
        "  # print(translation)\r\n",
        "  print(untokenize(translation[:-1]).decode('utf-8'))\r\n"
      ],
      "execution_count": 65,
      "outputs": []
    },
    {
      "cell_type": "markdown",
      "metadata": {
        "id": "EBOoET5H6km5"
      },
      "source": [
        "## Example 1"
      ]
    },
    {
      "cell_type": "code",
      "metadata": {
        "colab": {
          "base_uri": "https://localhost:8080/"
        },
        "id": "tuNEA7wzijhY",
        "outputId": "f14a0d5c-89a5-417b-ea6c-1ac114327d52"
      },
      "source": [
        "src = \"program to sort a list of dictionaries by key\"\r\n",
        "\r\n",
        "eng_to_python(src)"
      ],
      "execution_count": 66,
      "outputs": [
        {
          "output_type": "stream",
          "text": [
            "predicted trg: \n",
            "\n",
            "var_1 ={'Nikhil':{'roll':24 ,'marks':17 },\n",
            "'Akshat':{'roll':54 ,'marks':12 },\n",
            "'Akash':{'roll':15 },'marks':15 }}\n",
            "sort_key ='marks'\n",
            "res ='marks'\n",
            "res =var_2 (test_dict .items (),key =lambda x :x [1 ][sort_key ])\n",
            "print (\"The sorted dictionary by marks is : \"+str (res ))\n"
          ],
          "name": "stdout"
        }
      ]
    },
    {
      "cell_type": "markdown",
      "metadata": {
        "id": "-FfPrg0l7ZNM"
      },
      "source": [
        "## Example 2"
      ]
    },
    {
      "cell_type": "code",
      "metadata": {
        "colab": {
          "base_uri": "https://localhost:8080/"
        },
        "id": "lHOL5t7SjVeh",
        "outputId": "34eaa89c-14e1-43b2-c600-d8cf3fd4d66e"
      },
      "source": [
        "src = \"function to merge two lists\"\r\n",
        "\r\n",
        "eng_to_python(src)"
      ],
      "execution_count": 67,
      "outputs": [
        {
          "output_type": "stream",
          "text": [
            "predicted trg: \n",
            "\n",
            "def merge_lists (l1 :list ,var_1 :list ):\n",
            "    return list (zip (l1 ,var_1 ))\n"
          ],
          "name": "stdout"
        }
      ]
    },
    {
      "cell_type": "markdown",
      "metadata": {
        "id": "GzJqBaYp7deR"
      },
      "source": [
        "## Example 3"
      ]
    },
    {
      "cell_type": "code",
      "metadata": {
        "colab": {
          "base_uri": "https://localhost:8080/"
        },
        "id": "8MuBCMCSjsR4",
        "outputId": "43b6b484-8259-4904-9c8b-c944b3c60eab"
      },
      "source": [
        "src = \"program to find gcd\"\r\n",
        "\r\n",
        "eng_to_python(src)"
      ],
      "execution_count": 68,
      "outputs": [
        {
          "output_type": "stream",
          "text": [
            "predicted trg: \n",
            "\n",
            "\n",
            "def compute_hcf (x ,y ):\n",
            "\n",
            "   while (y ):\n",
            "       x ,y =y ,x %y \n",
            "   return x \n"
          ],
          "name": "stdout"
        }
      ]
    },
    {
      "cell_type": "markdown",
      "metadata": {
        "id": "7SnTjVI87vAp"
      },
      "source": [
        "## Example 4"
      ]
    },
    {
      "cell_type": "code",
      "metadata": {
        "colab": {
          "base_uri": "https://localhost:8080/"
        },
        "id": "vhq7YCN-kifr",
        "outputId": "c8f5ddce-15d0-4477-a000-fcc49c6fa3f4"
      },
      "source": [
        "src = \"program to calculate simple interest\"\r\n",
        "\r\n",
        "eng_to_python(src)"
      ],
      "execution_count": 69,
      "outputs": [
        {
          "output_type": "stream",
          "text": [
            "predicted trg: \n",
            "\n",
            "\n",
            "princ_amount =float (input (\" Please Enter the Principal Amount : \"))\n",
            "var_1 =float (input (\" Please Enter the Rate Of Interest   : \"))\n",
            "var_2 =float (input (\" Please Enter Time period in Years   : \"))\n",
            "\n",
            "simple_interest =(princ_amount *var_1 *var_2 )/100 \n",
            "\n",
            "print (\"\\nSimple Interest for Principal Amount {0} = {1}\".format (princ_amount ,simple_interest ))\n"
          ],
          "name": "stdout"
        }
      ]
    },
    {
      "cell_type": "markdown",
      "metadata": {
        "id": "-USiTjDL7ydL"
      },
      "source": [
        "## Example 5"
      ]
    },
    {
      "cell_type": "code",
      "metadata": {
        "colab": {
          "base_uri": "https://localhost:8080/"
        },
        "id": "8NO84A1ZlSJt",
        "outputId": "ca7393bd-bd35-4cf7-a42a-9be6049f35ae"
      },
      "source": [
        "src = \"function to sum odd elements of list\"\r\n",
        "\r\n",
        "eng_to_python(src)"
      ],
      "execution_count": 70,
      "outputs": [
        {
          "output_type": "stream",
          "text": [
            "predicted trg: \n",
            "\n",
            "def sum_odd_elements (l :list ):\n",
            "    return sum ([i for i in l if i %2 ==1 ])\n"
          ],
          "name": "stdout"
        }
      ]
    },
    {
      "cell_type": "markdown",
      "metadata": {
        "id": "fud3AeSZ71ft"
      },
      "source": [
        "## Example 6"
      ]
    },
    {
      "cell_type": "code",
      "metadata": {
        "colab": {
          "base_uri": "https://localhost:8080/"
        },
        "id": "YOAWbmjfld7A",
        "outputId": "ae34c8c4-ceb9-4079-d8bb-7664dd375e8d"
      },
      "source": [
        "src = \"program to find product of numbers\"\r\n",
        "\r\n",
        "eng_to_python(src)"
      ],
      "execution_count": 71,
      "outputs": [
        {
          "output_type": "stream",
          "text": [
            "predicted trg: \n",
            "\n",
            "\n",
            "def compute_hcf (x ,y ):\n",
            "    if x >y :\n",
            "        smaller =y \n",
            "    else :\n",
            "        smaller =x \n",
            "    for i in range (1 ,smaller +1 ):\n",
            "        if ((x %i ==0 )and (y %i ==0 )):\n",
            "            hcf =i \n",
            "    return hcf \n",
            "\n",
            "\n"
          ],
          "name": "stdout"
        }
      ]
    },
    {
      "cell_type": "markdown",
      "metadata": {
        "id": "Aj3PvhIZ8GFN"
      },
      "source": [
        "## Example 7"
      ]
    },
    {
      "cell_type": "code",
      "metadata": {
        "colab": {
          "base_uri": "https://localhost:8080/"
        },
        "id": "mtwY2d_819Oi",
        "outputId": "0bfa3d0f-df3e-4e4d-d480-d33c37195356"
      },
      "source": [
        "src = \"program to reverse a string\"\r\n",
        "\r\n",
        "eng_to_python(src)"
      ],
      "execution_count": 72,
      "outputs": [
        {
          "output_type": "stream",
          "text": [
            "predicted trg: \n",
            "\n",
            "\n",
            "var_1 ='Today is bad day'\n",
            "var_1 [::-1 ]\n"
          ],
          "name": "stdout"
        }
      ]
    },
    {
      "cell_type": "markdown",
      "metadata": {
        "id": "tblyRJt58sO2"
      },
      "source": [
        "## Example 8"
      ]
    },
    {
      "cell_type": "code",
      "metadata": {
        "colab": {
          "base_uri": "https://localhost:8080/"
        },
        "id": "GqEI8sqch-ms",
        "outputId": "0260f5f9-e072-4921-f4fd-b1a9b2da1646"
      },
      "source": [
        "src = \"function to find reverse of a string\"\r\n",
        "\r\n",
        "eng_to_python(src)"
      ],
      "execution_count": 73,
      "outputs": [
        {
          "output_type": "stream",
          "text": [
            "predicted trg: \n",
            "\n",
            "\n",
            "def revStr (inp ):\n",
            "  inp =inp [::-1 ]\n",
            "  return inp \n"
          ],
          "name": "stdout"
        }
      ]
    },
    {
      "cell_type": "markdown",
      "metadata": {
        "id": "bddDdZgk-AfF"
      },
      "source": [
        "## Example 9"
      ]
    },
    {
      "cell_type": "code",
      "metadata": {
        "colab": {
          "base_uri": "https://localhost:8080/"
        },
        "id": "Krlfk6MxrHg8",
        "outputId": "8af1dc7a-b082-4648-f7e3-1b33f2afc749"
      },
      "source": [
        "src = \"program to find the length of list\"\r\n",
        "\r\n",
        "eng_to_python(src)"
      ],
      "execution_count": 74,
      "outputs": [
        {
          "output_type": "stream",
          "text": [
            "predicted trg: \n",
            "\n",
            "\n",
            "var_1 =[[1 ,2 ,3 ],[4 ,5 ,6 ],[7 ,8 ,9 ]]\n",
            "\n",
            "var_2 =[]\n",
            "var_3 =0 \n",
            "for i in range (len (var_1 )):\n",
            "    var_3 =var_1 [i ]\n",
            "    for j in range (len (var_1 )):\n",
            "        var_3 +=var_1 [i ]=var_3 \n",
            "\n",
            "print (var_2 )\n"
          ],
          "name": "stdout"
        }
      ]
    },
    {
      "cell_type": "markdown",
      "metadata": {
        "id": "XSv3wBwQ-IWJ"
      },
      "source": [
        "## Example 10"
      ]
    },
    {
      "cell_type": "code",
      "metadata": {
        "id": "KcoA-tgmrHlz",
        "colab": {
          "base_uri": "https://localhost:8080/"
        },
        "outputId": "dfed0cfd-61e7-4d1e-b6e7-902a4e879769"
      },
      "source": [
        "src = \"program to find the area of a square\"\r\n",
        "\r\n",
        "eng_to_python(src)"
      ],
      "execution_count": 75,
      "outputs": [
        {
          "output_type": "stream",
          "text": [
            "predicted trg: \n",
            "\n",
            "side =5 \n",
            "print (f'Area: {side * side}')\n"
          ],
          "name": "stdout"
        }
      ]
    },
    {
      "cell_type": "markdown",
      "metadata": {
        "id": "LkuQGH9T-NTn"
      },
      "source": [
        "## Example 11"
      ]
    },
    {
      "cell_type": "code",
      "metadata": {
        "id": "z6ef4xQJrHrR",
        "colab": {
          "base_uri": "https://localhost:8080/"
        },
        "outputId": "98678841-5c38-4061-94cd-dff426ace8f6"
      },
      "source": [
        "src = \"program to print epoch timestamp\"\r\n",
        "\r\n",
        "eng_to_python(src)"
      ],
      "execution_count": 76,
      "outputs": [
        {
          "output_type": "stream",
          "text": [
            "predicted trg: \n",
            "\n",
            "import time \n",
            "import datetime \n",
            "str1 =\"20/01/2020\"\n",
            "element =datetime .strptime (str1 ,\"%d/%m/%Y\")\n",
            "timestamp =datetime .timestamp (element )\n",
            "print (timestamp )\n"
          ],
          "name": "stdout"
        }
      ]
    },
    {
      "cell_type": "markdown",
      "metadata": {
        "id": "6viTGKHA-Pte"
      },
      "source": [
        "## Example 12"
      ]
    },
    {
      "cell_type": "code",
      "metadata": {
        "id": "o1K0vG_Uh-6T",
        "colab": {
          "base_uri": "https://localhost:8080/"
        },
        "outputId": "2a43447b-c87a-4e94-84b1-7eb1ac57b562"
      },
      "source": [
        "src = \"program to find ascii value of charecter\"\r\n",
        "\r\n",
        "eng_to_python(src)"
      ],
      "execution_count": 77,
      "outputs": [
        {
          "output_type": "stream",
          "text": [
            "predicted trg: \n",
            "\n",
            "\n",
            "var_1 ='5'\n",
            "print (ord (var_1 ))\n"
          ],
          "name": "stdout"
        }
      ]
    },
    {
      "cell_type": "markdown",
      "metadata": {
        "id": "j1uI-bk0_xXj"
      },
      "source": [
        "## Example 13"
      ]
    },
    {
      "cell_type": "code",
      "metadata": {
        "colab": {
          "base_uri": "https://localhost:8080/"
        },
        "id": "04a9ORHq52NO",
        "outputId": "369f7dfd-75cd-4895-e038-cb36d0a0892a"
      },
      "source": [
        "src = \"function to find fibonacci sequence\"\r\n",
        "\r\n",
        "eng_to_python(src)"
      ],
      "execution_count": 78,
      "outputs": [
        {
          "output_type": "stream",
          "text": [
            "predicted trg: \n",
            "\n",
            "def recur_fibo (n ):\n",
            "   if n <=1 :\n",
            "       return n \n",
            "   else :\n",
            "       return (recur_fibo (n -1 )+recur_fibo (n -2 ))\n",
            "\n",
            "\n"
          ],
          "name": "stdout"
        }
      ]
    },
    {
      "cell_type": "markdown",
      "metadata": {
        "id": "oqst2jY0A8da"
      },
      "source": [
        "## Example 14"
      ]
    },
    {
      "cell_type": "code",
      "metadata": {
        "colab": {
          "base_uri": "https://localhost:8080/"
        },
        "id": "XOmQTvVe6BdW",
        "outputId": "71209df9-c67f-4c96-a5fc-dfa97afbdf70"
      },
      "source": [
        "src = \"function to find largest key in a dictionary\"\r\n",
        "\r\n",
        "eng_to_python(src)"
      ],
      "execution_count": 79,
      "outputs": [
        {
          "output_type": "stream",
          "text": [
            "predicted trg: \n",
            "\n",
            "\n",
            "def dic_largest (var_1 ):\n",
            "    return max (var_1 .values ())\n"
          ],
          "name": "stdout"
        }
      ]
    },
    {
      "cell_type": "markdown",
      "metadata": {
        "id": "LrzUWvbPA_yN"
      },
      "source": [
        "## Example 15"
      ]
    },
    {
      "cell_type": "code",
      "metadata": {
        "colab": {
          "base_uri": "https://localhost:8080/"
        },
        "id": "GfikZjRnA6in",
        "outputId": "b1a07736-6a8c-40a9-bb32-18781ce0eefd"
      },
      "source": [
        "src = \"program to convert list of tuples into a dictionary\"\r\n",
        "\r\n",
        "eng_to_python(src)"
      ],
      "execution_count": 80,
      "outputs": [
        {
          "output_type": "stream",
          "text": [
            "predicted trg: \n",
            "\n",
            "var_1 =[(\"x\",1 ),(\"x\",2 ),(\"y\",1 ),(\"y\",1 ),(\"y\",2 ),(\"z\",1 )]\n",
            "d ={}\n",
            "for a ,var_2 in var_1 :\n",
            "    d .setdefault (a ,[]).append (var_2 )\n",
            "print (d )\n"
          ],
          "name": "stdout"
        }
      ]
    },
    {
      "cell_type": "markdown",
      "metadata": {
        "id": "TwGLVjeJBEse"
      },
      "source": [
        "## Example 16"
      ]
    },
    {
      "cell_type": "code",
      "metadata": {
        "colab": {
          "base_uri": "https://localhost:8080/"
        },
        "id": "EyjQlqrlBbd_",
        "outputId": "c607e278-935e-4a41-8e52-be636c29c591"
      },
      "source": [
        "src = \"function to convert to binary\"\r\n",
        "\r\n",
        "eng_to_python(src)"
      ],
      "execution_count": 81,
      "outputs": [
        {
          "output_type": "stream",
          "text": [
            "predicted trg: \n",
            "\n",
            "def convertToBinary (n ):\n",
            "   if n >1 :\n",
            "       convertToBinary (n //2 )\n",
            "   print (n %2 ,end ='')\n"
          ],
          "name": "stdout"
        }
      ]
    },
    {
      "cell_type": "markdown",
      "metadata": {
        "id": "bCp9MFXuBz5f"
      },
      "source": [
        "## Example 17"
      ]
    },
    {
      "cell_type": "code",
      "metadata": {
        "colab": {
          "base_uri": "https://localhost:8080/"
        },
        "id": "P92rLpfzB34-",
        "outputId": "3868f44b-39de-4ccc-a27b-ed88bdd973c7"
      },
      "source": [
        "src = \"program to implement a linked list\"\r\n",
        "\r\n",
        "eng_to_python(src)"
      ],
      "execution_count": 82,
      "outputs": [
        {
          "output_type": "stream",
          "text": [
            "predicted trg: \n",
            "\n",
            "\n",
            "class Node :\n",
            "\n",
            "    def __init__ (self ,data ):\n",
            "        self .data =data \n",
            "        self .next =None \n",
            "\n",
            "class LinkedList :\n",
            "\n",
            "    def __init__ (self ):\n",
            "        self .head =None \n",
            "\n",
            "    def reverse (self ):\n",
            "        prev =None \n",
            "        current =self .next \n",
            "        while (current is not None ):\n",
            "            next =current .next \n",
            "            current =current =current \n",
            "            current =current \n",
            "            current =current \n",
            "        self .next =current \n",
            "\n",
            "    def push (self ,new_data ):\n",
            "        next =Node (new_data )\n",
            "        self .next =self .next =self .next \n",
            "\n",
            "    def printList (self ):\n",
            "        temp =self .head =temp \n",
            "        while (temp ):\n",
            "            print (temp )\n",
            "            temp =temp =temp .next \n",
            "\n",
            "\n",
            "llist =LinkedList ()\n",
            "llist .push (20 )\n",
            "llist .push (4 )\n",
            "llist .push (15 )\n",
            "llist .push (85 )\n",
            "\n",
            "print (\"Given Linked List\")\n",
            "llist .printList ()\n",
            "llist .printList ()\n",
            "llist .printList ()\n",
            "llist .printList (\"\\nReversed Linked List\")\n",
            "llist .printList ()\n"
          ],
          "name": "stdout"
        }
      ]
    },
    {
      "cell_type": "markdown",
      "metadata": {
        "id": "vCzyMpcZB4M4"
      },
      "source": [
        "## Example 18"
      ]
    },
    {
      "cell_type": "code",
      "metadata": {
        "colab": {
          "base_uri": "https://localhost:8080/"
        },
        "id": "JHvANCDoB7fu",
        "outputId": "7e7b5271-49fc-48ce-d9f9-69d9eb7c33a3"
      },
      "source": [
        "src = \"program to multiply two lists elementwise\"\r\n",
        "\r\n",
        "eng_to_python(src)"
      ],
      "execution_count": 83,
      "outputs": [
        {
          "output_type": "stream",
          "text": [
            "predicted trg: \n",
            "\n",
            "def adds_listoddelements (l1 :list ,l2 :list ):\n",
            "    return [i *j for i ,j in zip (l1 ,l2 )if i *j %2 ==1 ]\n"
          ],
          "name": "stdout"
        }
      ]
    },
    {
      "cell_type": "markdown",
      "metadata": {
        "id": "sTWtnH5oEAnG"
      },
      "source": [
        "## Example 19"
      ]
    },
    {
      "cell_type": "code",
      "metadata": {
        "colab": {
          "base_uri": "https://localhost:8080/"
        },
        "id": "azuLJKtGEClE",
        "outputId": "b7bc923a-b9cf-435c-cb1f-189ad47892d0"
      },
      "source": [
        "src = \"program to find common values between two sets\"\r\n",
        "\r\n",
        "eng_to_python(src)"
      ],
      "execution_count": 84,
      "outputs": [
        {
          "output_type": "stream",
          "text": [
            "predicted trg: \n",
            "\n",
            "\n",
            "var_1 ={10 ,20 ,30 ,40 ,50 }\n",
            "set2 ={60 ,70 ,80 ,90 ,10 }\n",
            "if var_1 ==1 :\n",
            "    print (\"Two sets have no items in common\")\n",
            "else :\n",
            "  print (\"Two sets have items in common\")\n",
            "  print (var_1 .intersection (y ))\n"
          ],
          "name": "stdout"
        }
      ]
    },
    {
      "cell_type": "markdown",
      "metadata": {
        "id": "Bwss8KejEDIX"
      },
      "source": [
        "## Example 20"
      ]
    },
    {
      "cell_type": "code",
      "metadata": {
        "colab": {
          "base_uri": "https://localhost:8080/"
        },
        "id": "-4tnH_2qEDff",
        "outputId": "d1bbaeeb-8b91-4a6f-e8c5-79af7300903e"
      },
      "source": [
        "src = \"program to find number of unique values in a list\"\r\n",
        "\r\n",
        "eng_to_python(src)"
      ],
      "execution_count": 85,
      "outputs": [
        {
          "output_type": "stream",
          "text": [
            "predicted trg: \n",
            "\n",
            "input_list =[1 ,2 ,2 ,5 ,4 ,4 ,3 ,8 ]\n",
            "\n",
            "var_1 =[]\n",
            "\n",
            "for var_2 in input_list :\n",
            "    if var_2 not in var_1 :\n",
            "        var_1 +=1 \n",
            "\n",
            "print (\"No of unique items are:\",var_1 )\n"
          ],
          "name": "stdout"
        }
      ]
    },
    {
      "cell_type": "markdown",
      "metadata": {
        "id": "YUrPbMgHEDtK"
      },
      "source": [
        "## Example 21"
      ]
    },
    {
      "cell_type": "code",
      "metadata": {
        "colab": {
          "base_uri": "https://localhost:8080/"
        },
        "id": "dYFV_FFYED81",
        "outputId": "6fca285c-6ed9-44a7-c6ad-140e82e916dc"
      },
      "source": [
        "src = \"function to remove empty lists from a list of lists\"\r\n",
        "\r\n",
        "eng_to_python(src)"
      ],
      "execution_count": 86,
      "outputs": [
        {
          "output_type": "stream",
          "text": [
            "predicted trg: \n",
            "\n",
            "def removeEmptyList (li ):\n",
            "  res =[ele for ele in li if ele !=[]]\n",
            "  return res \n"
          ],
          "name": "stdout"
        }
      ]
    },
    {
      "cell_type": "markdown",
      "metadata": {
        "id": "cwD42Lm5Ek3p"
      },
      "source": [
        "## Example 22"
      ]
    },
    {
      "cell_type": "code",
      "metadata": {
        "colab": {
          "base_uri": "https://localhost:8080/"
        },
        "id": "LQHIADDYEnH6",
        "outputId": "1ba3d2ec-1245-4501-bcd9-1ea353219ce4"
      },
      "source": [
        "src = \"write a function to capitalize a string\"\r\n",
        "\r\n",
        "eng_to_python(src)"
      ],
      "execution_count": 87,
      "outputs": [
        {
          "output_type": "stream",
          "text": [
            "predicted trg: \n",
            "\n",
            "\n",
            "def capitalize (text ):\n",
            "    return text .title ()\n"
          ],
          "name": "stdout"
        }
      ]
    },
    {
      "cell_type": "markdown",
      "metadata": {
        "id": "ffn0hW_yEnuq"
      },
      "source": [
        "## Example 23"
      ]
    },
    {
      "cell_type": "code",
      "metadata": {
        "colab": {
          "base_uri": "https://localhost:8080/"
        },
        "id": "9Vdu1QDbEq7a",
        "outputId": "82eb2d04-c24c-4658-dbef-d91f0366a03f"
      },
      "source": [
        "src = \"write a function to find the area of a circle\"\r\n",
        "\r\n",
        "eng_to_python(src)"
      ],
      "execution_count": 88,
      "outputs": [
        {
          "output_type": "stream",
          "text": [
            "predicted trg: \n",
            "\n",
            "def circle_area (r ):\n",
            "    return 22 /7 *r **2 \n"
          ],
          "name": "stdout"
        }
      ]
    },
    {
      "cell_type": "markdown",
      "metadata": {
        "id": "-Xo7Je-HErTH"
      },
      "source": [
        "## Example 24"
      ]
    },
    {
      "cell_type": "code",
      "metadata": {
        "colab": {
          "base_uri": "https://localhost:8080/"
        },
        "id": "Qn4-1CW_EuRT",
        "outputId": "dbfcb747-f71c-4d51-8583-853d72321bc5"
      },
      "source": [
        "src = \"write a python program to merge two dictionaries\"\r\n",
        "\r\n",
        "eng_to_python(src)"
      ],
      "execution_count": 89,
      "outputs": [
        {
          "output_type": "stream",
          "text": [
            "predicted trg: \n",
            "\n",
            "x ={'key1':'val1','key2':'val2'}\n",
            "y ={'key3':'val3','key4':'val4'}\n",
            "z ={**x ,**y }# z = x | y  \n"
          ],
          "name": "stdout"
        }
      ]
    },
    {
      "cell_type": "markdown",
      "metadata": {
        "id": "4QbqAX4cEurC"
      },
      "source": [
        "## Example 25"
      ]
    },
    {
      "cell_type": "code",
      "metadata": {
        "colab": {
          "base_uri": "https://localhost:8080/"
        },
        "id": "9dxvGAM0Ewvp",
        "outputId": "e6c06519-55ed-4f38-a15b-7c9369c4c9bb"
      },
      "source": [
        "src = \"write a function to find factorial\"\r\n",
        "\r\n",
        "eng_to_python(src)"
      ],
      "execution_count": 90,
      "outputs": [
        {
          "output_type": "stream",
          "text": [
            "predicted trg: \n",
            "\n",
            "def factorial (n ):\n",
            "    if n ==0 :\n",
            "        return 1 \n",
            "    else :\n",
            "        return n *factorial (n -1 )\n"
          ],
          "name": "stdout"
        }
      ]
    },
    {
      "cell_type": "code",
      "metadata": {
        "id": "MYIOx1D-KIZ9"
      },
      "source": [
        ""
      ],
      "execution_count": 90,
      "outputs": []
    }
  ]
}